{
 "cells": [
  {
   "cell_type": "markdown",
   "metadata": {},
   "source": [
    "# Modelo de Recomendación de películas"
   ]
  },
  {
   "cell_type": "code",
   "execution_count": 1,
   "metadata": {},
   "outputs": [],
   "source": [
    "import pandas as pd\n",
    "import numpy as np\n",
    "from sklearn.feature_extraction.text import CountVectorizer\n",
    "from sklearn.metrics.pairwise import cosine_similarity, linear_kernel"
   ]
  },
  {
   "cell_type": "code",
   "execution_count": 249,
   "metadata": {},
   "outputs": [],
   "source": [
    "df = pd.read_csv('../clean_data/movies_model.csv')\n",
    "df"
   ]
  },
  {
   "cell_type": "code",
   "execution_count": 250,
   "metadata": {},
   "outputs": [
    {
     "data": {
      "text/plain": [
       "(15076, 18791)"
      ]
     },
     "execution_count": 250,
     "metadata": {},
     "output_type": "execute_result"
    }
   ],
   "source": [
    "cv_fvector = CountVectorizer(stop_words='english')\n",
    "vector = cv_fvector.fit_transform(df['word_bag']).toarray()\n",
    "vector.shape"
   ]
  },
  {
   "cell_type": "code",
   "execution_count": 251,
   "metadata": {},
   "outputs": [
    {
     "data": {
      "text/plain": [
       "array([[1.        , 0.1118034 , 0.1       , ..., 0.10540926, 0.26311741,\n",
       "        0.11952286],\n",
       "       [0.1118034 , 1.        , 0.        , ..., 0.23570226, 0.09805807,\n",
       "        0.        ],\n",
       "       [0.1       , 0.        , 1.        , ..., 0.        , 0.1754116 ,\n",
       "        0.11952286],\n",
       "       ...,\n",
       "       [0.10540926, 0.23570226, 0.        , ..., 1.        , 0.09245003,\n",
       "        0.        ],\n",
       "       [0.26311741, 0.09805807, 0.1754116 , ..., 0.09245003, 1.        ,\n",
       "        0.10482848],\n",
       "       [0.11952286, 0.        , 0.11952286, ..., 0.        , 0.10482848,\n",
       "        1.        ]])"
      ]
     },
     "execution_count": 251,
     "metadata": {},
     "output_type": "execute_result"
    }
   ],
   "source": [
    "similarity_array = cosine_similarity(vector,vector)\n",
    "similarity_array"
   ]
  },
  {
   "cell_type": "code",
   "execution_count": 87,
   "metadata": {},
   "outputs": [
    {
     "name": "stdout",
     "output_type": "stream",
     "text": [
      "La película que ingresaste es: Toy Story. Las recomendaciones son: \n",
      "\n",
      "Toy Story 2\n",
      "A Bug'S Life\n",
      "Cars\n",
      "Cars 2\n",
      "Mater And The Ghostlight\n"
     ]
    }
   ],
   "source": [
    "# Recomendaciones con cosine_similarity\n",
    "df = pd.read_csv('../clean_data/movies_model.csv')\n",
    "# Recomendación por medio de id_peli.\n",
    "recommended_five = sorted(list(enumerate(similarity_array[df[df.id_peli == 862].index.item()])),reverse=True,key = lambda x: x[1])[1:6]\n",
    "# Recomendación por medio de title.\n",
    "#recommended_five = sorted(list(enumerate(similarity_array[df.index[df.title.isin(['Toy Story'])].item()])),reverse=True,key = lambda x: x[1])[1:6]\n",
    "lista = []\n",
    "for i in recommended_five:\n",
    "    lista.append(i[0])\n",
    "print(f'La película que ingresaste es: {df[df.id_peli == 862].title.item()}. Las recomendaciones son: \\n')\n",
    "for x in df.title.loc[lista]:\n",
    "    print(x)"
   ]
  },
  {
   "cell_type": "code",
   "execution_count": 252,
   "metadata": {},
   "outputs": [],
   "source": [
    "dfx = pd.DataFrame(columns=['id_peli','idx_recommend'])\n",
    "for i in df.id_peli:\n",
    "    recommended_five = sorted(list(enumerate(similarity_array[df[df.id_peli == i].index.item()])),reverse=True,key = lambda x: x[1])[1:6]\n",
    "    lista = []\n",
    "    for j in recommended_five:\n",
    "        lista.append([i,j[0]])\n",
    "    dfx = pd.concat([dfx,pd.DataFrame(lista,columns=['id_peli','idx_recommend'])])\n",
    "    \n",
    "dfx = dfx.merge(df).drop('word_bag',axis=1)[['id_peli', 'title','idx_recommend']]\n",
    "dfx.to_csv('../clean_data/recommended_movies.csv')\n",
    "dfx[dfx.title == 'The Terminator']"
   ]
  },
  {
   "cell_type": "code",
   "execution_count": 245,
   "metadata": {},
   "outputs": [],
   "source": [
    "def recomendacion(pelicula:[str,int]):\n",
    "    if type(pelicula) == str:\n",
    "        pelicula = pelicula.title()\n",
    "        lista = list(dfx[dfx.title == pelicula].idx_recommend)\n",
    "    elif type(pelicula) == int:\n",
    "        lista = list(dfx[dfx.id_peli == pelicula].idx_recommend)\n",
    "        pelicula = dfx.title[dfx.id_peli == pelicula][:1].item()\n",
    "\n",
    "    recomendacion = df.loc[lista][['id_peli', 'title']]\n",
    "    recomendacion.columns = ['id_peli','recomendaciones']\n",
    "\n",
    "    if not recomendacion.empty:\n",
    "        return {\n",
    "            'Ingresaste la película: ': f'{pelicula}',\n",
    "            'Las recomendaciones son: ': f'1.- [{recomendacion.recomendaciones[:1].item()}]; 2.- [{recomendacion.recomendaciones[1:2].item()}]; 3.- [{recomendacion.recomendaciones[2:3].item()}]; 4.- [{recomendacion.recomendaciones[3:4].item()}]; 5.- [{recomendacion.recomendaciones[4:5].item()}]',\n",
    "        }\n",
    "    else: \n",
    "        return {'No se encontró la película: ' : f'{pelicula}'}"
   ]
  },
  {
   "cell_type": "code",
   "execution_count": 256,
   "metadata": {},
   "outputs": [
    {
     "name": "stderr",
     "output_type": "stream",
     "text": [
      "C:\\Users\\tinma\\AppData\\Local\\Temp\\ipykernel_23348\\2823260797.py:14: FutureWarning: The behavior of `series[i:j]` with an integer-dtype index is deprecated. In a future version, this will be treated as *label-based* indexing, consistent with e.g. `series[i]` lookups. To retain the old behavior, use `series.iloc[i:j]`. To get the future behavior, use `series.loc[i:j]`.\n",
      "  'Las recomendaciones son: ' : f'1.- [{recomendacion.recomendaciones[0:1].item()}]; 2.- [{recomendacion.recomendaciones[1:2].item()}]; 3.- [{recomendacion.recomendaciones[2:3].item()}]; 4.- [{recomendacion.recomendaciones[3:4].item()}]; 5.- [{recomendacion.recomendaciones[4:5].item()}]'}\n"
     ]
    },
    {
     "data": {
      "text/plain": [
       "{'Ingresaste la película: ': 'The Terminator',\n",
       " 'Las recomendaciones son: ': '1.- [Terminator 2: Judgment Day]; 2.- [The Abyss]; 3.- [Aliens]; 4.- [Terminator Salvation]; 5.- [True Lies]'}"
      ]
     },
     "execution_count": 256,
     "metadata": {},
     "output_type": "execute_result"
    }
   ],
   "source": [
    "# Sucedió que en la recomendación de películas, la película misma que es la que debio dar 1, estuviera ordenada en segundo lugar, ya que había otra película diferente con la diferencia = 1\n",
    "recomendacion('the terminator')"
   ]
  },
  {
   "cell_type": "code",
   "execution_count": 1,
   "metadata": {},
   "outputs": [
    {
     "ename": "NameError",
     "evalue": "name 'df' is not defined",
     "output_type": "error",
     "traceback": [
      "\u001b[1;31m---------------------------------------------------------------------------\u001b[0m",
      "\u001b[1;31mNameError\u001b[0m                                 Traceback (most recent call last)",
      "\u001b[1;32mc:\\Users\\tinma\\OneDrive\\Escritorio\\HENRY\\PI1_MLOps_HENRY\\ML_model\\ML_model.ipynb Celda 15\u001b[0m in \u001b[0;36m1\n\u001b[1;32m----> <a href='vscode-notebook-cell:/c%3A/Users/tinma/OneDrive/Escritorio/HENRY/PI1_MLOps_HENRY/ML_model/ML_model.ipynb#X20sZmlsZQ%3D%3D?line=0'>1</a>\u001b[0m df\u001b[39m.\u001b[39mloc[\u001b[39m642\u001b[39m]\n",
      "\u001b[1;31mNameError\u001b[0m: name 'df' is not defined"
     ]
    }
   ],
   "source": [
    "df.loc[642]"
   ]
  },
  {
   "cell_type": "code",
   "execution_count": 216,
   "metadata": {},
   "outputs": [
    {
     "name": "stderr",
     "output_type": "stream",
     "text": [
      "C:\\Users\\tinma\\AppData\\Local\\Temp\\ipykernel_23348\\4192713340.py:1: DtypeWarning: Columns (10) have mixed types. Specify dtype option on import or set low_memory=False.\n",
      "  dfy = pd.read_csv('../Data/movies_dataset.csv')\n"
     ]
    },
    {
     "data": {
      "text/html": [
       "<div>\n",
       "<style scoped>\n",
       "    .dataframe tbody tr th:only-of-type {\n",
       "        vertical-align: middle;\n",
       "    }\n",
       "\n",
       "    .dataframe tbody tr th {\n",
       "        vertical-align: top;\n",
       "    }\n",
       "\n",
       "    .dataframe thead th {\n",
       "        text-align: right;\n",
       "    }\n",
       "</style>\n",
       "<table border=\"1\" class=\"dataframe\">\n",
       "  <thead>\n",
       "    <tr style=\"text-align: right;\">\n",
       "      <th></th>\n",
       "      <th>adult</th>\n",
       "      <th>belongs_to_collection</th>\n",
       "      <th>budget</th>\n",
       "      <th>genres</th>\n",
       "      <th>homepage</th>\n",
       "      <th>id</th>\n",
       "      <th>imdb_id</th>\n",
       "      <th>original_language</th>\n",
       "      <th>original_title</th>\n",
       "      <th>overview</th>\n",
       "      <th>...</th>\n",
       "      <th>release_date</th>\n",
       "      <th>revenue</th>\n",
       "      <th>runtime</th>\n",
       "      <th>spoken_languages</th>\n",
       "      <th>status</th>\n",
       "      <th>tagline</th>\n",
       "      <th>title</th>\n",
       "      <th>video</th>\n",
       "      <th>vote_average</th>\n",
       "      <th>vote_count</th>\n",
       "    </tr>\n",
       "  </thead>\n",
       "  <tbody>\n",
       "    <tr>\n",
       "      <th>1195</th>\n",
       "      <td>False</td>\n",
       "      <td>{'id': 528, 'name': 'The Terminator Collection...</td>\n",
       "      <td>6400000</td>\n",
       "      <td>[{'id': 28, 'name': 'Action'}, {'id': 53, 'nam...</td>\n",
       "      <td>http://www.mgm.com/#/our-titles/1970/The-Termi...</td>\n",
       "      <td>218</td>\n",
       "      <td>tt0088247</td>\n",
       "      <td>en</td>\n",
       "      <td>The Terminator</td>\n",
       "      <td>In the post-apocalyptic future, reigning tyran...</td>\n",
       "      <td>...</td>\n",
       "      <td>1984-10-26</td>\n",
       "      <td>78371200.0</td>\n",
       "      <td>108.0</td>\n",
       "      <td>[{'iso_639_1': 'en', 'name': 'English'}]</td>\n",
       "      <td>Released</td>\n",
       "      <td>Your future is in his hands.</td>\n",
       "      <td>The Terminator</td>\n",
       "      <td>False</td>\n",
       "      <td>7.4</td>\n",
       "      <td>4208.0</td>\n",
       "    </tr>\n",
       "  </tbody>\n",
       "</table>\n",
       "<p>1 rows × 24 columns</p>\n",
       "</div>"
      ],
      "text/plain": [
       "      adult                              belongs_to_collection   budget  \\\n",
       "1195  False  {'id': 528, 'name': 'The Terminator Collection...  6400000   \n",
       "\n",
       "                                                 genres  \\\n",
       "1195  [{'id': 28, 'name': 'Action'}, {'id': 53, 'nam...   \n",
       "\n",
       "                                               homepage   id    imdb_id  \\\n",
       "1195  http://www.mgm.com/#/our-titles/1970/The-Termi...  218  tt0088247   \n",
       "\n",
       "     original_language  original_title  \\\n",
       "1195                en  The Terminator   \n",
       "\n",
       "                                               overview  ... release_date  \\\n",
       "1195  In the post-apocalyptic future, reigning tyran...  ...   1984-10-26   \n",
       "\n",
       "         revenue runtime                          spoken_languages    status  \\\n",
       "1195  78371200.0   108.0  [{'iso_639_1': 'en', 'name': 'English'}]  Released   \n",
       "\n",
       "                           tagline           title  video vote_average  \\\n",
       "1195  Your future is in his hands.  The Terminator  False          7.4   \n",
       "\n",
       "     vote_count  \n",
       "1195     4208.0  \n",
       "\n",
       "[1 rows x 24 columns]"
      ]
     },
     "execution_count": 216,
     "metadata": {},
     "output_type": "execute_result"
    }
   ],
   "source": [
    "dfy = pd.read_csv('../Data/movies_dataset.csv')\n",
    "dfy[dfy]"
   ]
  }
 ],
 "metadata": {
  "kernelspec": {
   "display_name": "Python 3",
   "language": "python",
   "name": "python3"
  },
  "language_info": {
   "codemirror_mode": {
    "name": "ipython",
    "version": 3
   },
   "file_extension": ".py",
   "mimetype": "text/x-python",
   "name": "python",
   "nbconvert_exporter": "python",
   "pygments_lexer": "ipython3",
   "version": "3.10.8"
  },
  "orig_nbformat": 4
 },
 "nbformat": 4,
 "nbformat_minor": 2
}
