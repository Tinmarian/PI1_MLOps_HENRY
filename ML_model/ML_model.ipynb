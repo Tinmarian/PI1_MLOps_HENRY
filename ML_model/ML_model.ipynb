{
 "cells": [
  {
   "cell_type": "markdown",
   "metadata": {},
   "source": [
    "# Modelo de Recomendación de películas"
   ]
  },
  {
   "cell_type": "code",
   "execution_count": 1,
   "metadata": {},
   "outputs": [],
   "source": [
    "import pandas as pd\n",
    "import numpy as np\n",
    "from sklearn.feature_extraction.text import CountVectorizer\n",
    "from sklearn.metrics.pairwise import cosine_similarity, linear_kernel"
   ]
  },
  {
   "cell_type": "code",
   "execution_count": 249,
   "metadata": {},
   "outputs": [],
   "source": [
    "df = pd.read_csv('../clean_data/movies_model.csv')\n",
    "# x = 0\n",
    "# for i in range(len(df)):\n",
    "#     print(i)\n",
    "#     if len(df.word_bag[i]) > x:\n",
    "#         x = len(df.word_bag[i])\n",
    "# print(x)"
   ]
  },
  {
   "cell_type": "code",
   "execution_count": 57,
   "metadata": {},
   "outputs": [
    {
     "data": {
      "text/html": [
       "<div>\n",
       "<style scoped>\n",
       "    .dataframe tbody tr th:only-of-type {\n",
       "        vertical-align: middle;\n",
       "    }\n",
       "\n",
       "    .dataframe tbody tr th {\n",
       "        vertical-align: top;\n",
       "    }\n",
       "\n",
       "    .dataframe thead th {\n",
       "        text-align: right;\n",
       "    }\n",
       "</style>\n",
       "<table border=\"1\" class=\"dataframe\">\n",
       "  <thead>\n",
       "    <tr style=\"text-align: right;\">\n",
       "      <th></th>\n",
       "      <th>id_peli</th>\n",
       "      <th>title</th>\n",
       "      <th>word_bag</th>\n",
       "    </tr>\n",
       "  </thead>\n",
       "  <tbody>\n",
       "    <tr>\n",
       "      <th>0</th>\n",
       "      <td>862</td>\n",
       "      <td>Toy Story</td>\n",
       "      <td>ToyStoryCollection Animation Comedy Family Joh...</td>\n",
       "    </tr>\n",
       "    <tr>\n",
       "      <th>1</th>\n",
       "      <td>8844</td>\n",
       "      <td>Jumanji</td>\n",
       "      <td>Family Adventure Fantasy JoeJohnston JoeJohnston</td>\n",
       "    </tr>\n",
       "    <tr>\n",
       "      <th>2</th>\n",
       "      <td>15602</td>\n",
       "      <td>Grumpier Old Men</td>\n",
       "      <td>GrumpyOldMenCollection Comedy Romance HowardDe...</td>\n",
       "    </tr>\n",
       "    <tr>\n",
       "      <th>3</th>\n",
       "      <td>31357</td>\n",
       "      <td>Waiting To Exhale</td>\n",
       "      <td>Comedy Romance Drama ForestWhitaker ForestWhi...</td>\n",
       "    </tr>\n",
       "    <tr>\n",
       "      <th>4</th>\n",
       "      <td>11862</td>\n",
       "      <td>Father Of The Bride Part Ii</td>\n",
       "      <td>Comedy CharlesShyer CharlesShyer</td>\n",
       "    </tr>\n",
       "    <tr>\n",
       "      <th>...</th>\n",
       "      <td>...</td>\n",
       "      <td>...</td>\n",
       "      <td>...</td>\n",
       "    </tr>\n",
       "    <tr>\n",
       "      <th>13131</th>\n",
       "      <td>432789</td>\n",
       "      <td>The Incredible Jessica James</td>\n",
       "      <td>Comedy Romance JimStrouse JimStrouse</td>\n",
       "    </tr>\n",
       "    <tr>\n",
       "      <th>13132</th>\n",
       "      <td>434873</td>\n",
       "      <td>It Stains The Sands Red</td>\n",
       "      <td>Comedy Drama Horror ColinMinihan ColinMinihan</td>\n",
       "    </tr>\n",
       "    <tr>\n",
       "      <th>13133</th>\n",
       "      <td>18098</td>\n",
       "      <td>Arabian Nights</td>\n",
       "      <td>Family Fantasy Drama SteveBarron SteveBarron</td>\n",
       "    </tr>\n",
       "    <tr>\n",
       "      <th>13134</th>\n",
       "      <td>455661</td>\n",
       "      <td>In A Heartbeat</td>\n",
       "      <td>Animation Comedy Family Romance BethDavid Est...</td>\n",
       "    </tr>\n",
       "    <tr>\n",
       "      <th>13135</th>\n",
       "      <td>14008</td>\n",
       "      <td>Cadet Kelly</td>\n",
       "      <td>Comedy LarryShaw LarryShaw</td>\n",
       "    </tr>\n",
       "  </tbody>\n",
       "</table>\n",
       "<p>13136 rows × 3 columns</p>\n",
       "</div>"
      ],
      "text/plain": [
       "       id_peli                         title  \\\n",
       "0          862                     Toy Story   \n",
       "1         8844                       Jumanji   \n",
       "2        15602              Grumpier Old Men   \n",
       "3        31357             Waiting To Exhale   \n",
       "4        11862   Father Of The Bride Part Ii   \n",
       "...        ...                           ...   \n",
       "13131   432789  The Incredible Jessica James   \n",
       "13132   434873       It Stains The Sands Red   \n",
       "13133    18098                Arabian Nights   \n",
       "13134   455661                In A Heartbeat   \n",
       "13135    14008                   Cadet Kelly   \n",
       "\n",
       "                                                word_bag  \n",
       "0      ToyStoryCollection Animation Comedy Family Joh...  \n",
       "1       Family Adventure Fantasy JoeJohnston JoeJohnston  \n",
       "2      GrumpyOldMenCollection Comedy Romance HowardDe...  \n",
       "3       Comedy Romance Drama ForestWhitaker ForestWhi...  \n",
       "4                       Comedy CharlesShyer CharlesShyer  \n",
       "...                                                  ...  \n",
       "13131               Comedy Romance JimStrouse JimStrouse  \n",
       "13132      Comedy Drama Horror ColinMinihan ColinMinihan  \n",
       "13133       Family Fantasy Drama SteveBarron SteveBarron  \n",
       "13134   Animation Comedy Family Romance BethDavid Est...  \n",
       "13135                         Comedy LarryShaw LarryShaw  \n",
       "\n",
       "[13136 rows x 3 columns]"
      ]
     },
     "execution_count": 57,
     "metadata": {},
     "output_type": "execute_result"
    }
   ],
   "source": [
    "df"
   ]
  },
  {
   "cell_type": "code",
   "execution_count": 250,
   "metadata": {},
   "outputs": [
    {
     "data": {
      "text/plain": [
       "(15076, 18791)"
      ]
     },
     "execution_count": 250,
     "metadata": {},
     "output_type": "execute_result"
    }
   ],
   "source": [
    "#stop_words attribute will skip all the helper words that occur english language eg: in, the , they etc.\n",
    "# del(vector)\n",
    "# del(cv_fvector)\n",
    "# del(similarity_array)\n",
    "cv_fvector = CountVectorizer(stop_words='english')\n",
    "vector = cv_fvector.fit_transform(df['word_bag']).toarray()\n",
    "vector.shape"
   ]
  },
  {
   "cell_type": "code",
   "execution_count": 251,
   "metadata": {},
   "outputs": [
    {
     "data": {
      "text/plain": [
       "array([[1.        , 0.1118034 , 0.1       , ..., 0.10540926, 0.26311741,\n",
       "        0.11952286],\n",
       "       [0.1118034 , 1.        , 0.        , ..., 0.23570226, 0.09805807,\n",
       "        0.        ],\n",
       "       [0.1       , 0.        , 1.        , ..., 0.        , 0.1754116 ,\n",
       "        0.11952286],\n",
       "       ...,\n",
       "       [0.10540926, 0.23570226, 0.        , ..., 1.        , 0.09245003,\n",
       "        0.        ],\n",
       "       [0.26311741, 0.09805807, 0.1754116 , ..., 0.09245003, 1.        ,\n",
       "        0.10482848],\n",
       "       [0.11952286, 0.        , 0.11952286, ..., 0.        , 0.10482848,\n",
       "        1.        ]])"
      ]
     },
     "execution_count": 251,
     "metadata": {},
     "output_type": "execute_result"
    }
   ],
   "source": [
    "similarity_array = cosine_similarity(vector,vector)\n",
    "similarity_array\n",
    "# similarity_array = linear_kernel(vector,vector)"
   ]
  },
  {
   "cell_type": "code",
   "execution_count": 64,
   "metadata": {},
   "outputs": [
    {
     "data": {
      "text/plain": [
       "[(1235, 0.9999999999999998),\n",
       " (998, 0.8749999999999998),\n",
       " (3693, 0.6864064729836441),\n",
       " (6178, 0.6864064729836441),\n",
       " (8071, 0.6708203932499369)]"
      ]
     },
     "execution_count": 64,
     "metadata": {},
     "output_type": "execute_result"
    }
   ],
   "source": [
    "sorted(list(enumerate(similarity_array[df[df.id_peli == 862].index.item()])),reverse=True,key = lambda x: x[1])[1:6]"
   ]
  },
  {
   "cell_type": "code",
   "execution_count": 87,
   "metadata": {},
   "outputs": [
    {
     "name": "stdout",
     "output_type": "stream",
     "text": [
      "La película que ingresaste es: Toy Story. Las recomendaciones son: \n",
      "\n",
      "Toy Story 2\n",
      "A Bug'S Life\n",
      "Cars\n",
      "Cars 2\n",
      "Mater And The Ghostlight\n"
     ]
    }
   ],
   "source": [
    "# Recomendaciones con cosine_similarity\n",
    "df = pd.read_csv('../clean_data/movies_model.csv')\n",
    "# Recomendación por medio de id_peli.\n",
    "recommended_five = sorted(list(enumerate(similarity_array[df[df.id_peli == 862].index.item()])),reverse=True,key = lambda x: x[1])[1:6]\n",
    "# Recomendación por medio de title.\n",
    "#recommended_five = sorted(list(enumerate(similarity_array[df.index[df.title.isin(['Toy Story'])].item()])),reverse=True,key = lambda x: x[1])[1:6]\n",
    "lista = []\n",
    "for i in recommended_five:\n",
    "    lista.append(i[0])\n",
    "print(f'La película que ingresaste es: {df[df.id_peli == 862].title.item()}. Las recomendaciones son: \\n')\n",
    "for x in df.title.loc[lista]:\n",
    "    print(x)"
   ]
  },
  {
   "cell_type": "code",
   "execution_count": 231,
   "metadata": {},
   "outputs": [
    {
     "data": {
      "text/plain": [
       "[(402, 1.0),\n",
       " (642, 1.0),\n",
       " (585, 0.8888888888888888),\n",
       " (620, 0.8432740427115678),\n",
       " (265, 0.816496580927726),\n",
       " (6568, 0.7453559924999298)]"
      ]
     },
     "execution_count": 231,
     "metadata": {},
     "output_type": "execute_result"
    }
   ],
   "source": [
    "sorted(list(enumerate(similarity_array[df[df.id_peli == 218].index.item()])),reverse=True,key = lambda x: x[1])[:6]"
   ]
  },
  {
   "cell_type": "code",
   "execution_count": 234,
   "metadata": {},
   "outputs": [
    {
     "data": {
      "text/html": [
       "<div>\n",
       "<style scoped>\n",
       "    .dataframe tbody tr th:only-of-type {\n",
       "        vertical-align: middle;\n",
       "    }\n",
       "\n",
       "    .dataframe tbody tr th {\n",
       "        vertical-align: top;\n",
       "    }\n",
       "\n",
       "    .dataframe thead th {\n",
       "        text-align: right;\n",
       "    }\n",
       "</style>\n",
       "<table border=\"1\" class=\"dataframe\">\n",
       "  <thead>\n",
       "    <tr style=\"text-align: right;\">\n",
       "      <th></th>\n",
       "      <th>id_peli</th>\n",
       "      <th>title</th>\n",
       "      <th>word_bag</th>\n",
       "    </tr>\n",
       "  </thead>\n",
       "  <tbody>\n",
       "    <tr>\n",
       "      <th>402</th>\n",
       "      <td>280</td>\n",
       "      <td>Terminator 2: Judgment Day</td>\n",
       "      <td>TheTerminatorCollection Action Thriller Scienc...</td>\n",
       "    </tr>\n",
       "    <tr>\n",
       "      <th>642</th>\n",
       "      <td>218</td>\n",
       "      <td>The Terminator</td>\n",
       "      <td>TheTerminatorCollection Action Thriller Scienc...</td>\n",
       "    </tr>\n",
       "  </tbody>\n",
       "</table>\n",
       "</div>"
      ],
      "text/plain": [
       "     id_peli                       title  \\\n",
       "402      280  Terminator 2: Judgment Day   \n",
       "642      218              The Terminator   \n",
       "\n",
       "                                              word_bag  \n",
       "402  TheTerminatorCollection Action Thriller Scienc...  \n",
       "642  TheTerminatorCollection Action Thriller Scienc...  "
      ]
     },
     "execution_count": 234,
     "metadata": {},
     "output_type": "execute_result"
    }
   ],
   "source": [
    "df.loc[[402,642]]"
   ]
  },
  {
   "cell_type": "code",
   "execution_count": 252,
   "metadata": {},
   "outputs": [],
   "source": [
    "dfx = pd.DataFrame(columns=['id_peli','idx_recommend'])\n",
    "for i in df.id_peli:\n",
    "    recommended_five = sorted(list(enumerate(similarity_array[df[df.id_peli == i].index.item()])),reverse=True,key = lambda x: x[1])[1:6]\n",
    "    lista = []\n",
    "    for j in recommended_five:\n",
    "        lista.append([i,j[0]])\n",
    "    dfx = pd.concat([dfx,pd.DataFrame(lista,columns=['id_peli','idx_recommend'])])    "
   ]
  },
  {
   "cell_type": "code",
   "execution_count": 253,
   "metadata": {},
   "outputs": [
    {
     "data": {
      "text/html": [
       "<div>\n",
       "<style scoped>\n",
       "    .dataframe tbody tr th:only-of-type {\n",
       "        vertical-align: middle;\n",
       "    }\n",
       "\n",
       "    .dataframe tbody tr th {\n",
       "        vertical-align: top;\n",
       "    }\n",
       "\n",
       "    .dataframe thead th {\n",
       "        text-align: right;\n",
       "    }\n",
       "</style>\n",
       "<table border=\"1\" class=\"dataframe\">\n",
       "  <thead>\n",
       "    <tr style=\"text-align: right;\">\n",
       "      <th></th>\n",
       "      <th>id_peli</th>\n",
       "      <th>title</th>\n",
       "      <th>idx_recommend</th>\n",
       "    </tr>\n",
       "  </thead>\n",
       "  <tbody>\n",
       "    <tr>\n",
       "      <th>3210</th>\n",
       "      <td>218</td>\n",
       "      <td>The Terminator</td>\n",
       "      <td>402</td>\n",
       "    </tr>\n",
       "    <tr>\n",
       "      <th>3211</th>\n",
       "      <td>218</td>\n",
       "      <td>The Terminator</td>\n",
       "      <td>585</td>\n",
       "    </tr>\n",
       "    <tr>\n",
       "      <th>3212</th>\n",
       "      <td>218</td>\n",
       "      <td>The Terminator</td>\n",
       "      <td>620</td>\n",
       "    </tr>\n",
       "    <tr>\n",
       "      <th>3213</th>\n",
       "      <td>218</td>\n",
       "      <td>The Terminator</td>\n",
       "      <td>6568</td>\n",
       "    </tr>\n",
       "    <tr>\n",
       "      <th>3214</th>\n",
       "      <td>218</td>\n",
       "      <td>The Terminator</td>\n",
       "      <td>265</td>\n",
       "    </tr>\n",
       "  </tbody>\n",
       "</table>\n",
       "</div>"
      ],
      "text/plain": [
       "     id_peli           title idx_recommend\n",
       "3210     218  The Terminator           402\n",
       "3211     218  The Terminator           585\n",
       "3212     218  The Terminator           620\n",
       "3213     218  The Terminator          6568\n",
       "3214     218  The Terminator           265"
      ]
     },
     "execution_count": 253,
     "metadata": {},
     "output_type": "execute_result"
    }
   ],
   "source": [
    "dfx = dfx.merge(df).drop('word_bag',axis=1)[['id_peli', 'title','idx_recommend']]\n",
    "dfx.to_csv('../clean_data/recommended_movies.csv')\n",
    "dfx[dfx.title == 'The Terminator']"
   ]
  },
  {
   "cell_type": "code",
   "execution_count": 245,
   "metadata": {},
   "outputs": [],
   "source": [
    "def recomendacion(pelicula:[str,int]):\n",
    "    if type(pelicula) == str:\n",
    "        pelicula = pelicula.title()\n",
    "        lista = list(dfx[dfx.title == pelicula].idx_recommend)\n",
    "    elif type(pelicula) == int:\n",
    "        lista = list(dfx[dfx.id_peli == pelicula].idx_recommend)\n",
    "        pelicula = dfx.title[dfx.id_peli == pelicula][:1].item()\n",
    "    \n",
    "    recomendacion = df.loc[lista][['id_peli', 'title']]\n",
    "    recomendacion.columns = ['id_peli','recomendaciones']\n",
    "    \n",
    "    if not recomendacion.empty:\n",
    "        return {'Ingresaste la película: ' : f'{pelicula}', \n",
    "                'Las recomendaciones son: ' : f'1.- [{recomendacion.recomendaciones[0:1].item()}]; 2.- [{recomendacion.recomendaciones[1:2].item()}]; 3.- [{recomendacion.recomendaciones[2:3].item()}]; 4.- [{recomendacion.recomendaciones[3:4].item()}]; 5.- [{recomendacion.recomendaciones[4:5].item()}]'}\n",
    "    else: \n",
    "        return {'No se encontró la película: ' : f'{pelicula}'}"
   ]
  },
  {
   "cell_type": "code",
   "execution_count": 256,
   "metadata": {},
   "outputs": [
    {
     "name": "stderr",
     "output_type": "stream",
     "text": [
      "C:\\Users\\tinma\\AppData\\Local\\Temp\\ipykernel_23348\\2823260797.py:14: FutureWarning: The behavior of `series[i:j]` with an integer-dtype index is deprecated. In a future version, this will be treated as *label-based* indexing, consistent with e.g. `series[i]` lookups. To retain the old behavior, use `series.iloc[i:j]`. To get the future behavior, use `series.loc[i:j]`.\n",
      "  'Las recomendaciones son: ' : f'1.- [{recomendacion.recomendaciones[0:1].item()}]; 2.- [{recomendacion.recomendaciones[1:2].item()}]; 3.- [{recomendacion.recomendaciones[2:3].item()}]; 4.- [{recomendacion.recomendaciones[3:4].item()}]; 5.- [{recomendacion.recomendaciones[4:5].item()}]'}\n"
     ]
    },
    {
     "data": {
      "text/plain": [
       "{'Ingresaste la película: ': 'The Terminator',\n",
       " 'Las recomendaciones son: ': '1.- [Terminator 2: Judgment Day]; 2.- [The Abyss]; 3.- [Aliens]; 4.- [Terminator Salvation]; 5.- [True Lies]'}"
      ]
     },
     "execution_count": 256,
     "metadata": {},
     "output_type": "execute_result"
    }
   ],
   "source": [
    "# Sucedió que en la recomendación de películas, la película misma que es la que debio dar 1, estuviera ordenada en segundo lugar, ya que había otra película diferente con la diferencia = 1\n",
    "recomendacion('the terminator')"
   ]
  },
  {
   "cell_type": "code",
   "execution_count": 255,
   "metadata": {},
   "outputs": [
    {
     "data": {
      "text/plain": [
       "id_peli                                                   280\n",
       "title                              Terminator 2: Judgment Day\n",
       "word_bag    Terminator 2: Judgment Day TheTerminatorCollec...\n",
       "Name: 402, dtype: object"
      ]
     },
     "execution_count": 255,
     "metadata": {},
     "output_type": "execute_result"
    }
   ],
   "source": [
    "df.loc[402]"
   ]
  },
  {
   "cell_type": "code",
   "execution_count": 216,
   "metadata": {},
   "outputs": [
    {
     "name": "stderr",
     "output_type": "stream",
     "text": [
      "C:\\Users\\tinma\\AppData\\Local\\Temp\\ipykernel_23348\\4192713340.py:1: DtypeWarning: Columns (10) have mixed types. Specify dtype option on import or set low_memory=False.\n",
      "  dfy = pd.read_csv('../Data/movies_dataset.csv')\n"
     ]
    },
    {
     "data": {
      "text/html": [
       "<div>\n",
       "<style scoped>\n",
       "    .dataframe tbody tr th:only-of-type {\n",
       "        vertical-align: middle;\n",
       "    }\n",
       "\n",
       "    .dataframe tbody tr th {\n",
       "        vertical-align: top;\n",
       "    }\n",
       "\n",
       "    .dataframe thead th {\n",
       "        text-align: right;\n",
       "    }\n",
       "</style>\n",
       "<table border=\"1\" class=\"dataframe\">\n",
       "  <thead>\n",
       "    <tr style=\"text-align: right;\">\n",
       "      <th></th>\n",
       "      <th>adult</th>\n",
       "      <th>belongs_to_collection</th>\n",
       "      <th>budget</th>\n",
       "      <th>genres</th>\n",
       "      <th>homepage</th>\n",
       "      <th>id</th>\n",
       "      <th>imdb_id</th>\n",
       "      <th>original_language</th>\n",
       "      <th>original_title</th>\n",
       "      <th>overview</th>\n",
       "      <th>...</th>\n",
       "      <th>release_date</th>\n",
       "      <th>revenue</th>\n",
       "      <th>runtime</th>\n",
       "      <th>spoken_languages</th>\n",
       "      <th>status</th>\n",
       "      <th>tagline</th>\n",
       "      <th>title</th>\n",
       "      <th>video</th>\n",
       "      <th>vote_average</th>\n",
       "      <th>vote_count</th>\n",
       "    </tr>\n",
       "  </thead>\n",
       "  <tbody>\n",
       "    <tr>\n",
       "      <th>1195</th>\n",
       "      <td>False</td>\n",
       "      <td>{'id': 528, 'name': 'The Terminator Collection...</td>\n",
       "      <td>6400000</td>\n",
       "      <td>[{'id': 28, 'name': 'Action'}, {'id': 53, 'nam...</td>\n",
       "      <td>http://www.mgm.com/#/our-titles/1970/The-Termi...</td>\n",
       "      <td>218</td>\n",
       "      <td>tt0088247</td>\n",
       "      <td>en</td>\n",
       "      <td>The Terminator</td>\n",
       "      <td>In the post-apocalyptic future, reigning tyran...</td>\n",
       "      <td>...</td>\n",
       "      <td>1984-10-26</td>\n",
       "      <td>78371200.0</td>\n",
       "      <td>108.0</td>\n",
       "      <td>[{'iso_639_1': 'en', 'name': 'English'}]</td>\n",
       "      <td>Released</td>\n",
       "      <td>Your future is in his hands.</td>\n",
       "      <td>The Terminator</td>\n",
       "      <td>False</td>\n",
       "      <td>7.4</td>\n",
       "      <td>4208.0</td>\n",
       "    </tr>\n",
       "  </tbody>\n",
       "</table>\n",
       "<p>1 rows × 24 columns</p>\n",
       "</div>"
      ],
      "text/plain": [
       "      adult                              belongs_to_collection   budget  \\\n",
       "1195  False  {'id': 528, 'name': 'The Terminator Collection...  6400000   \n",
       "\n",
       "                                                 genres  \\\n",
       "1195  [{'id': 28, 'name': 'Action'}, {'id': 53, 'nam...   \n",
       "\n",
       "                                               homepage   id    imdb_id  \\\n",
       "1195  http://www.mgm.com/#/our-titles/1970/The-Termi...  218  tt0088247   \n",
       "\n",
       "     original_language  original_title  \\\n",
       "1195                en  The Terminator   \n",
       "\n",
       "                                               overview  ... release_date  \\\n",
       "1195  In the post-apocalyptic future, reigning tyran...  ...   1984-10-26   \n",
       "\n",
       "         revenue runtime                          spoken_languages    status  \\\n",
       "1195  78371200.0   108.0  [{'iso_639_1': 'en', 'name': 'English'}]  Released   \n",
       "\n",
       "                           tagline           title  video vote_average  \\\n",
       "1195  Your future is in his hands.  The Terminator  False          7.4   \n",
       "\n",
       "     vote_count  \n",
       "1195     4208.0  \n",
       "\n",
       "[1 rows x 24 columns]"
      ]
     },
     "execution_count": 216,
     "metadata": {},
     "output_type": "execute_result"
    }
   ],
   "source": [
    "dfy = pd.read_csv('../Data/movies_dataset.csv')\n",
    "dfy[dfy]"
   ]
  }
 ],
 "metadata": {
  "kernelspec": {
   "display_name": "Python 3",
   "language": "python",
   "name": "python3"
  },
  "language_info": {
   "codemirror_mode": {
    "name": "ipython",
    "version": 3
   },
   "file_extension": ".py",
   "mimetype": "text/x-python",
   "name": "python",
   "nbconvert_exporter": "python",
   "pygments_lexer": "ipython3",
   "version": "3.10.8"
  },
  "orig_nbformat": 4
 },
 "nbformat": 4,
 "nbformat_minor": 2
}
