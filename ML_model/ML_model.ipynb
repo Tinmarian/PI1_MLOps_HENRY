{
 "cells": [
  {
   "cell_type": "markdown",
   "metadata": {},
   "source": [
    "# Modelo de Recomendación de películas"
   ]
  },
  {
   "cell_type": "code",
   "execution_count": 1,
   "metadata": {},
   "outputs": [],
   "source": [
    "import pandas as pd\n",
    "import numpy as np\n",
    "from sklearn.feature_extraction.text import CountVectorizer\n",
    "from sklearn.metrics.pairwise import cosine_similarity, linear_kernel"
   ]
  },
  {
   "cell_type": "code",
   "execution_count": 2,
   "metadata": {},
   "outputs": [
    {
     "data": {
      "text/html": [
       "<div>\n",
       "<style scoped>\n",
       "    .dataframe tbody tr th:only-of-type {\n",
       "        vertical-align: middle;\n",
       "    }\n",
       "\n",
       "    .dataframe tbody tr th {\n",
       "        vertical-align: top;\n",
       "    }\n",
       "\n",
       "    .dataframe thead th {\n",
       "        text-align: right;\n",
       "    }\n",
       "</style>\n",
       "<table border=\"1\" class=\"dataframe\">\n",
       "  <thead>\n",
       "    <tr style=\"text-align: right;\">\n",
       "      <th></th>\n",
       "      <th>id_peli</th>\n",
       "      <th>title</th>\n",
       "      <th>word_bag</th>\n",
       "    </tr>\n",
       "  </thead>\n",
       "  <tbody>\n",
       "    <tr>\n",
       "      <th>0</th>\n",
       "      <td>862</td>\n",
       "      <td>Toy Story</td>\n",
       "      <td>Toy Story ToyStoryCollection Animation Comedy ...</td>\n",
       "    </tr>\n",
       "    <tr>\n",
       "      <th>1</th>\n",
       "      <td>8844</td>\n",
       "      <td>Jumanji</td>\n",
       "      <td>Jumanji  Family Adventure Fantasy JoeJohnston ...</td>\n",
       "    </tr>\n",
       "    <tr>\n",
       "      <th>2</th>\n",
       "      <td>15602</td>\n",
       "      <td>Grumpier Old Men</td>\n",
       "      <td>Grumpier Old Men GrumpyOldMenCollection Comedy...</td>\n",
       "    </tr>\n",
       "    <tr>\n",
       "      <th>3</th>\n",
       "      <td>31357</td>\n",
       "      <td>Waiting To Exhale</td>\n",
       "      <td>Waiting To Exhale  Comedy Romance Drama Forest...</td>\n",
       "    </tr>\n",
       "    <tr>\n",
       "      <th>4</th>\n",
       "      <td>11862</td>\n",
       "      <td>Father Of The Bride Part Ii</td>\n",
       "      <td>Father Of The Bride Part Ii  Comedy CharlesShy...</td>\n",
       "    </tr>\n",
       "  </tbody>\n",
       "</table>\n",
       "</div>"
      ],
      "text/plain": [
       "   id_peli                        title  \\\n",
       "0      862                    Toy Story   \n",
       "1     8844                      Jumanji   \n",
       "2    15602             Grumpier Old Men   \n",
       "3    31357            Waiting To Exhale   \n",
       "4    11862  Father Of The Bride Part Ii   \n",
       "\n",
       "                                            word_bag  \n",
       "0  Toy Story ToyStoryCollection Animation Comedy ...  \n",
       "1  Jumanji  Family Adventure Fantasy JoeJohnston ...  \n",
       "2  Grumpier Old Men GrumpyOldMenCollection Comedy...  \n",
       "3  Waiting To Exhale  Comedy Romance Drama Forest...  \n",
       "4  Father Of The Bride Part Ii  Comedy CharlesShy...  "
      ]
     },
     "execution_count": 2,
     "metadata": {},
     "output_type": "execute_result"
    }
   ],
   "source": [
    "df = pd.read_csv('../clean_data/movies_model.csv')\n",
    "df.head()"
   ]
  },
  {
   "cell_type": "code",
   "execution_count": 3,
   "metadata": {},
   "outputs": [
    {
     "data": {
      "text/plain": [
       "(15076, 125745)"
      ]
     },
     "execution_count": 3,
     "metadata": {},
     "output_type": "execute_result"
    }
   ],
   "source": [
    "cv_fvector = CountVectorizer(stop_words='english')\n",
    "vector = cv_fvector.fit_transform(df['word_bag']).toarray()\n",
    "vector.shape"
   ]
  },
  {
   "cell_type": "code",
   "execution_count": 4,
   "metadata": {},
   "outputs": [
    {
     "data": {
      "text/plain": [
       "(15076, 15076)"
      ]
     },
     "execution_count": 4,
     "metadata": {},
     "output_type": "execute_result"
    }
   ],
   "source": [
    "similarity_array = cosine_similarity(vector,vector)\n",
    "similarity_array.shape"
   ]
  },
  {
   "cell_type": "code",
   "execution_count": 6,
   "metadata": {},
   "outputs": [],
   "source": [
    "df = pd.read_csv('../clean_data/movies_model.csv')\n",
    "dfx = pd.DataFrame(columns=['id_peli','idx_recommend'])\n",
    "for i in df.id_peli:\n",
    "    recommended_five = sorted(list(enumerate(similarity_array[df[df.id_peli == i].index.item()])),reverse=True,key = lambda x: x[1])[1:6]\n",
    "    lista = [[i,j[0]] for j in recommended_five]\n",
    "    dfx = pd.concat([dfx,pd.DataFrame(lista,columns=['id_peli','idx_recommend'])])\n",
    "    \n",
    "dfx = dfx.merge(df).drop('word_bag',axis=1)[['id_peli', 'title','idx_recommend']]\n",
    "dfx.to_csv('../clean_data/recommended_movies.csv')\n",
    "\n",
    "\n",
    "\n",
    "# Definición de la función para el endpoint final de recomendación.\n",
    "def recomendacion(pelicula):  # sourcery skip: use-contextlib-suppress\n",
    "    try:\n",
    "        pelicula = int(pelicula)\n",
    "    except ValueError:\n",
    "        pass\n",
    "    df = pd.read_csv('../clean_data/movies_model.csv')\n",
    "    dfx = pd.read_csv('../clean_data/recommended_movies.csv')\n",
    "    if type(pelicula) == str:\n",
    "        pelicula = pelicula.title()\n",
    "        lista = list(dfx[dfx.title == pelicula].idx_recommend)\n",
    "    elif type(pelicula) == int:\n",
    "        lista = list(dfx[dfx.id_peli == pelicula].idx_recommend)\n",
    "        pelicula = dfx.title[dfx.id_peli == pelicula][:1].item()\n",
    "    else:\n",
    "        return {\"Debes introducir un valor entero (int) que pertenezca al id de alguna película\" : \"O el nombre de una película en inglés (str)\"}\n",
    "\n",
    "    recomendacion = df.loc[lista][['id_peli', 'title']]\n",
    "    recomendacion.columns = ['id_peli','recomendaciones']\n",
    "\n",
    "    if not recomendacion.empty:\n",
    "        return {\n",
    "            \"Ingresaste la película: \": f\"{pelicula}\",\n",
    "            \"Las recomendaciones son: \": f\"1.- [{recomendacion.recomendaciones[:1].item()}]; 2.- [{recomendacion.recomendaciones[1:2].item()}]; 3.- [{recomendacion.recomendaciones[2:3].item()}]; 4.- [{recomendacion.recomendaciones[3:4].item()}]; 5.- [{recomendacion.recomendaciones[4:5].item()}]\",\n",
    "        }\n",
    "    total_pelis = len(pd.read_csv('../Data/movies_dataset.csv'))\n",
    "    return {\n",
    "        \"Dentro del dataset no se encuentra la película: \" : f\"{pelicula}\", \n",
    "        \"Recuerda que, debido a los procesos de limpieza y preprocesamiento, solo contamos con: \" : f\"{len(df)} películas\", \n",
    "        \"de un total de: \" : f\"{total_pelis} películas.\"}"
   ]
  },
  {
   "cell_type": "code",
   "execution_count": 10,
   "metadata": {},
   "outputs": [
    {
     "name": "stderr",
     "output_type": "stream",
     "text": [
      "C:\\Users\\tinma\\AppData\\Local\\Temp\\ipykernel_6808\\1422992557.py:36: FutureWarning: The behavior of `series[i:j]` with an integer-dtype index is deprecated. In a future version, this will be treated as *label-based* indexing, consistent with e.g. `series[i]` lookups. To retain the old behavior, use `series.iloc[i:j]`. To get the future behavior, use `series.loc[i:j]`.\n",
      "  \"Las recomendaciones son: \": f\"1.- [{recomendacion.recomendaciones[:1].item()}]; 2.- [{recomendacion.recomendaciones[1:2].item()}]; 3.- [{recomendacion.recomendaciones[2:3].item()}]; 4.- [{recomendacion.recomendaciones[3:4].item()}]; 5.- [{recomendacion.recomendaciones[4:5].item()}]\",\n"
     ]
    },
    {
     "data": {
      "text/plain": [
       "{'Ingresaste la película: ': 'Star Wars',\n",
       " 'Las recomendaciones son: ': '1.- [The Empire Strikes Back]; 2.- [The Star Wars Holiday Special]; 3.- [Empire Of Dreams: The Story Of The Star Wars Trilogy]; 4.- [Return Of The Jedi]; 5.- [Robot Chicken: Star Wars]'}"
      ]
     },
     "execution_count": 10,
     "metadata": {},
     "output_type": "execute_result"
    }
   ],
   "source": [
    "# Sucedió que en la recomendación de películas, la película misma que es la que debio dar 1, estuviera ordenada en segundo lugar, ya que había otra película diferente con la diferencia = 1,\n",
    "# lo que no tiene sentido, deben ser películas diferentes menores a 1\n",
    "recomendacion('star wars')"
   ]
  }
 ],
 "metadata": {
  "kernelspec": {
   "display_name": "Python 3",
   "language": "python",
   "name": "python3"
  },
  "language_info": {
   "codemirror_mode": {
    "name": "ipython",
    "version": 3
   },
   "file_extension": ".py",
   "mimetype": "text/x-python",
   "name": "python",
   "nbconvert_exporter": "python",
   "pygments_lexer": "ipython3",
   "version": "3.10.8"
  },
  "orig_nbformat": 4
 },
 "nbformat": 4,
 "nbformat_minor": 2
}
