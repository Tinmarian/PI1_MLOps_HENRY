{
 "cells": [
  {
   "cell_type": "markdown",
   "metadata": {},
   "source": [
    "# Modelo de Recomendación de películas"
   ]
  },
  {
   "cell_type": "code",
   "execution_count": 1,
   "metadata": {},
   "outputs": [],
   "source": [
    "import pandas as pd\n",
    "import numpy as np\n",
    "from sklearn.feature_extraction.text import CountVectorizer\n",
    "from sklearn.metrics.pairwise import cosine_similarity, linear_kernel"
   ]
  },
  {
   "cell_type": "code",
   "execution_count": 59,
   "metadata": {},
   "outputs": [],
   "source": [
    "df = pd.read_csv('../clean_data/movies_model.csv')\n",
    "# x = 0\n",
    "# for i in range(len(df)):\n",
    "#     print(i)\n",
    "#     if len(df.word_bag[i]) > x:\n",
    "#         x = len(df.word_bag[i])\n",
    "# print(x)"
   ]
  },
  {
   "cell_type": "code",
   "execution_count": 57,
   "metadata": {},
   "outputs": [
    {
     "data": {
      "text/html": [
       "<div>\n",
       "<style scoped>\n",
       "    .dataframe tbody tr th:only-of-type {\n",
       "        vertical-align: middle;\n",
       "    }\n",
       "\n",
       "    .dataframe tbody tr th {\n",
       "        vertical-align: top;\n",
       "    }\n",
       "\n",
       "    .dataframe thead th {\n",
       "        text-align: right;\n",
       "    }\n",
       "</style>\n",
       "<table border=\"1\" class=\"dataframe\">\n",
       "  <thead>\n",
       "    <tr style=\"text-align: right;\">\n",
       "      <th></th>\n",
       "      <th>id_peli</th>\n",
       "      <th>title</th>\n",
       "      <th>word_bag</th>\n",
       "    </tr>\n",
       "  </thead>\n",
       "  <tbody>\n",
       "    <tr>\n",
       "      <th>0</th>\n",
       "      <td>862</td>\n",
       "      <td>Toy Story</td>\n",
       "      <td>ToyStoryCollection Animation Comedy Family Joh...</td>\n",
       "    </tr>\n",
       "    <tr>\n",
       "      <th>1</th>\n",
       "      <td>8844</td>\n",
       "      <td>Jumanji</td>\n",
       "      <td>Family Adventure Fantasy JoeJohnston JoeJohnston</td>\n",
       "    </tr>\n",
       "    <tr>\n",
       "      <th>2</th>\n",
       "      <td>15602</td>\n",
       "      <td>Grumpier Old Men</td>\n",
       "      <td>GrumpyOldMenCollection Comedy Romance HowardDe...</td>\n",
       "    </tr>\n",
       "    <tr>\n",
       "      <th>3</th>\n",
       "      <td>31357</td>\n",
       "      <td>Waiting To Exhale</td>\n",
       "      <td>Comedy Romance Drama ForestWhitaker ForestWhi...</td>\n",
       "    </tr>\n",
       "    <tr>\n",
       "      <th>4</th>\n",
       "      <td>11862</td>\n",
       "      <td>Father Of The Bride Part Ii</td>\n",
       "      <td>Comedy CharlesShyer CharlesShyer</td>\n",
       "    </tr>\n",
       "    <tr>\n",
       "      <th>...</th>\n",
       "      <td>...</td>\n",
       "      <td>...</td>\n",
       "      <td>...</td>\n",
       "    </tr>\n",
       "    <tr>\n",
       "      <th>13131</th>\n",
       "      <td>432789</td>\n",
       "      <td>The Incredible Jessica James</td>\n",
       "      <td>Comedy Romance JimStrouse JimStrouse</td>\n",
       "    </tr>\n",
       "    <tr>\n",
       "      <th>13132</th>\n",
       "      <td>434873</td>\n",
       "      <td>It Stains The Sands Red</td>\n",
       "      <td>Comedy Drama Horror ColinMinihan ColinMinihan</td>\n",
       "    </tr>\n",
       "    <tr>\n",
       "      <th>13133</th>\n",
       "      <td>18098</td>\n",
       "      <td>Arabian Nights</td>\n",
       "      <td>Family Fantasy Drama SteveBarron SteveBarron</td>\n",
       "    </tr>\n",
       "    <tr>\n",
       "      <th>13134</th>\n",
       "      <td>455661</td>\n",
       "      <td>In A Heartbeat</td>\n",
       "      <td>Animation Comedy Family Romance BethDavid Est...</td>\n",
       "    </tr>\n",
       "    <tr>\n",
       "      <th>13135</th>\n",
       "      <td>14008</td>\n",
       "      <td>Cadet Kelly</td>\n",
       "      <td>Comedy LarryShaw LarryShaw</td>\n",
       "    </tr>\n",
       "  </tbody>\n",
       "</table>\n",
       "<p>13136 rows × 3 columns</p>\n",
       "</div>"
      ],
      "text/plain": [
       "       id_peli                         title  \\\n",
       "0          862                     Toy Story   \n",
       "1         8844                       Jumanji   \n",
       "2        15602              Grumpier Old Men   \n",
       "3        31357             Waiting To Exhale   \n",
       "4        11862   Father Of The Bride Part Ii   \n",
       "...        ...                           ...   \n",
       "13131   432789  The Incredible Jessica James   \n",
       "13132   434873       It Stains The Sands Red   \n",
       "13133    18098                Arabian Nights   \n",
       "13134   455661                In A Heartbeat   \n",
       "13135    14008                   Cadet Kelly   \n",
       "\n",
       "                                                word_bag  \n",
       "0      ToyStoryCollection Animation Comedy Family Joh...  \n",
       "1       Family Adventure Fantasy JoeJohnston JoeJohnston  \n",
       "2      GrumpyOldMenCollection Comedy Romance HowardDe...  \n",
       "3       Comedy Romance Drama ForestWhitaker ForestWhi...  \n",
       "4                       Comedy CharlesShyer CharlesShyer  \n",
       "...                                                  ...  \n",
       "13131               Comedy Romance JimStrouse JimStrouse  \n",
       "13132      Comedy Drama Horror ColinMinihan ColinMinihan  \n",
       "13133       Family Fantasy Drama SteveBarron SteveBarron  \n",
       "13134   Animation Comedy Family Romance BethDavid Est...  \n",
       "13135                         Comedy LarryShaw LarryShaw  \n",
       "\n",
       "[13136 rows x 3 columns]"
      ]
     },
     "execution_count": 57,
     "metadata": {},
     "output_type": "execute_result"
    }
   ],
   "source": [
    "df"
   ]
  },
  {
   "cell_type": "code",
   "execution_count": 62,
   "metadata": {},
   "outputs": [
    {
     "data": {
      "text/plain": [
       "(13136, 7858)"
      ]
     },
     "execution_count": 62,
     "metadata": {},
     "output_type": "execute_result"
    }
   ],
   "source": [
    "#stop_words attribute will skip all the helper words that occur english language eg: in, the , they etc.\n",
    "# del(vector)\n",
    "# del(cv_fvector)\n",
    "# del(similarity_array)\n",
    "cv_fvector = CountVectorizer(stop_words='english')\n",
    "vector = cv_fvector.fit_transform(df['word_bag']).toarray()\n",
    "vector.shape"
   ]
  },
  {
   "cell_type": "code",
   "execution_count": 63,
   "metadata": {},
   "outputs": [
    {
     "data": {
      "text/plain": [
       "array([[1.        , 0.13363062, 0.13363062, ..., 0.13363062, 0.30618622,\n",
       "        0.15811388],\n",
       "       [0.13363062, 1.        , 0.        , ..., 0.28571429, 0.10910895,\n",
       "        0.        ],\n",
       "       [0.13363062, 0.        , 1.        , ..., 0.        , 0.21821789,\n",
       "        0.16903085],\n",
       "       ...,\n",
       "       [0.13363062, 0.28571429, 0.        , ..., 1.        , 0.10910895,\n",
       "        0.        ],\n",
       "       [0.30618622, 0.10910895, 0.21821789, ..., 0.10910895, 1.        ,\n",
       "        0.12909944],\n",
       "       [0.15811388, 0.        , 0.16903085, ..., 0.        , 0.12909944,\n",
       "        1.        ]])"
      ]
     },
     "execution_count": 63,
     "metadata": {},
     "output_type": "execute_result"
    }
   ],
   "source": [
    "similarity_array = cosine_similarity(vector,vector)\n",
    "similarity_array\n",
    "# similarity_array = linear_kernel(vector,vector)"
   ]
  },
  {
   "cell_type": "code",
   "execution_count": 64,
   "metadata": {},
   "outputs": [
    {
     "data": {
      "text/plain": [
       "[(1235, 0.9999999999999998),\n",
       " (998, 0.8749999999999998),\n",
       " (3693, 0.6864064729836441),\n",
       " (6178, 0.6864064729836441),\n",
       " (8071, 0.6708203932499369)]"
      ]
     },
     "execution_count": 64,
     "metadata": {},
     "output_type": "execute_result"
    }
   ],
   "source": [
    "sorted(list(enumerate(similarity_array[df[df.id_peli == 862].index.item()])),reverse=True,key = lambda x: x[1])[1:6]"
   ]
  },
  {
   "cell_type": "code",
   "execution_count": 84,
   "metadata": {},
   "outputs": [
    {
     "data": {
      "text/plain": [
       "0"
      ]
     },
     "execution_count": 84,
     "metadata": {},
     "output_type": "execute_result"
    }
   ],
   "source": []
  },
  {
   "cell_type": "code",
   "execution_count": 87,
   "metadata": {},
   "outputs": [
    {
     "name": "stdout",
     "output_type": "stream",
     "text": [
      "La película que ingresaste es: Toy Story. Las recomendaciones son: \n",
      "\n",
      "Toy Story 2\n",
      "A Bug'S Life\n",
      "Cars\n",
      "Cars 2\n",
      "Mater And The Ghostlight\n"
     ]
    }
   ],
   "source": [
    "# Recomendaciones con cosine_similarity\n",
    "df = pd.read_csv('../clean_data/movies_model.csv')\n",
    "# Recomendación por medio de id_peli.\n",
    "recommended_five = sorted(list(enumerate(similarity_array[df[df.id_peli == 862].index.item()])),reverse=True,key = lambda x: x[1])[1:6]\n",
    "# Recomendación por medio de title.\n",
    "#recommended_five = sorted(list(enumerate(similarity_array[df.index[df.title.isin(['Toy Story'])].item()])),reverse=True,key = lambda x: x[1])[1:6]\n",
    "lista = []\n",
    "for i in recommended_five:\n",
    "    lista.append(i[0])\n",
    "print(f'La película que ingresaste es: {df[df.id_peli == 862].title.item()}. Las recomendaciones son: \\n')\n",
    "for x in df.title.loc[lista]:\n",
    "    print(x)"
   ]
  },
  {
   "cell_type": "code",
   "execution_count": 104,
   "metadata": {},
   "outputs": [],
   "source": [
    "dfx = pd.DataFrame(columns=['id_peli','idx_recommend'])\n",
    "for i in df.id_peli:\n",
    "    recommended_five = sorted(list(enumerate(similarity_array[df[df.id_peli == i].index.item()])),reverse=True,key = lambda x: x[1])[1:6]\n",
    "    lista = []\n",
    "    for j in recommended_five:\n",
    "        lista.append([i,j[0]])\n",
    "    dfx = pd.concat([dfx,pd.DataFrame(lista,columns=['id_peli','idx_recommend'])])    "
   ]
  },
  {
   "cell_type": "code",
   "execution_count": 109,
   "metadata": {},
   "outputs": [
    {
     "data": {
      "text/html": [
       "<div>\n",
       "<style scoped>\n",
       "    .dataframe tbody tr th:only-of-type {\n",
       "        vertical-align: middle;\n",
       "    }\n",
       "\n",
       "    .dataframe tbody tr th {\n",
       "        vertical-align: top;\n",
       "    }\n",
       "\n",
       "    .dataframe thead th {\n",
       "        text-align: right;\n",
       "    }\n",
       "</style>\n",
       "<table border=\"1\" class=\"dataframe\">\n",
       "  <thead>\n",
       "    <tr style=\"text-align: right;\">\n",
       "      <th></th>\n",
       "      <th>id_peli</th>\n",
       "      <th>title</th>\n",
       "      <th>idx_recommend</th>\n",
       "    </tr>\n",
       "  </thead>\n",
       "  <tbody>\n",
       "    <tr>\n",
       "      <th>0</th>\n",
       "      <td>862</td>\n",
       "      <td>Toy Story</td>\n",
       "      <td>1235</td>\n",
       "    </tr>\n",
       "    <tr>\n",
       "      <th>1</th>\n",
       "      <td>862</td>\n",
       "      <td>Toy Story</td>\n",
       "      <td>998</td>\n",
       "    </tr>\n",
       "    <tr>\n",
       "      <th>2</th>\n",
       "      <td>862</td>\n",
       "      <td>Toy Story</td>\n",
       "      <td>3693</td>\n",
       "    </tr>\n",
       "    <tr>\n",
       "      <th>3</th>\n",
       "      <td>862</td>\n",
       "      <td>Toy Story</td>\n",
       "      <td>6178</td>\n",
       "    </tr>\n",
       "    <tr>\n",
       "      <th>4</th>\n",
       "      <td>862</td>\n",
       "      <td>Toy Story</td>\n",
       "      <td>8071</td>\n",
       "    </tr>\n",
       "    <tr>\n",
       "      <th>...</th>\n",
       "      <td>...</td>\n",
       "      <td>...</td>\n",
       "      <td>...</td>\n",
       "    </tr>\n",
       "    <tr>\n",
       "      <th>65675</th>\n",
       "      <td>14008</td>\n",
       "      <td>Cadet Kelly</td>\n",
       "      <td>444</td>\n",
       "    </tr>\n",
       "    <tr>\n",
       "      <th>65676</th>\n",
       "      <td>14008</td>\n",
       "      <td>Cadet Kelly</td>\n",
       "      <td>3229</td>\n",
       "    </tr>\n",
       "    <tr>\n",
       "      <th>65677</th>\n",
       "      <td>14008</td>\n",
       "      <td>Cadet Kelly</td>\n",
       "      <td>3568</td>\n",
       "    </tr>\n",
       "    <tr>\n",
       "      <th>65678</th>\n",
       "      <td>14008</td>\n",
       "      <td>Cadet Kelly</td>\n",
       "      <td>3752</td>\n",
       "    </tr>\n",
       "    <tr>\n",
       "      <th>65679</th>\n",
       "      <td>14008</td>\n",
       "      <td>Cadet Kelly</td>\n",
       "      <td>3965</td>\n",
       "    </tr>\n",
       "  </tbody>\n",
       "</table>\n",
       "<p>65680 rows × 3 columns</p>\n",
       "</div>"
      ],
      "text/plain": [
       "      id_peli        title idx_recommend\n",
       "0         862    Toy Story          1235\n",
       "1         862    Toy Story           998\n",
       "2         862    Toy Story          3693\n",
       "3         862    Toy Story          6178\n",
       "4         862    Toy Story          8071\n",
       "...       ...          ...           ...\n",
       "65675   14008  Cadet Kelly           444\n",
       "65676   14008  Cadet Kelly          3229\n",
       "65677   14008  Cadet Kelly          3568\n",
       "65678   14008  Cadet Kelly          3752\n",
       "65679   14008  Cadet Kelly          3965\n",
       "\n",
       "[65680 rows x 3 columns]"
      ]
     },
     "execution_count": 109,
     "metadata": {},
     "output_type": "execute_result"
    }
   ],
   "source": [
    "dfx = dfx.merge(df).drop('word_bag',axis=1)[['id_peli', 'title','idx_recommend']]\n",
    "dfx"
   ]
  },
  {
   "cell_type": "code",
   "execution_count": 114,
   "metadata": {},
   "outputs": [
    {
     "data": {
      "text/html": [
       "<div>\n",
       "<style scoped>\n",
       "    .dataframe tbody tr th:only-of-type {\n",
       "        vertical-align: middle;\n",
       "    }\n",
       "\n",
       "    .dataframe tbody tr th {\n",
       "        vertical-align: top;\n",
       "    }\n",
       "\n",
       "    .dataframe thead th {\n",
       "        text-align: right;\n",
       "    }\n",
       "</style>\n",
       "<table border=\"1\" class=\"dataframe\">\n",
       "  <thead>\n",
       "    <tr style=\"text-align: right;\">\n",
       "      <th></th>\n",
       "      <th>id_peli</th>\n",
       "      <th>title</th>\n",
       "    </tr>\n",
       "  </thead>\n",
       "  <tbody>\n",
       "    <tr>\n",
       "      <th>1235</th>\n",
       "      <td>863</td>\n",
       "      <td>Toy Story 2</td>\n",
       "    </tr>\n",
       "    <tr>\n",
       "      <th>998</th>\n",
       "      <td>9487</td>\n",
       "      <td>A Bug'S Life</td>\n",
       "    </tr>\n",
       "    <tr>\n",
       "      <th>3693</th>\n",
       "      <td>920</td>\n",
       "      <td>Cars</td>\n",
       "    </tr>\n",
       "    <tr>\n",
       "      <th>6178</th>\n",
       "      <td>49013</td>\n",
       "      <td>Cars 2</td>\n",
       "    </tr>\n",
       "    <tr>\n",
       "      <th>8071</th>\n",
       "      <td>13934</td>\n",
       "      <td>Mater And The Ghostlight</td>\n",
       "    </tr>\n",
       "  </tbody>\n",
       "</table>\n",
       "</div>"
      ],
      "text/plain": [
       "      id_peli                     title\n",
       "1235      863               Toy Story 2\n",
       "998      9487              A Bug'S Life\n",
       "3693      920                      Cars\n",
       "6178    49013                    Cars 2\n",
       "8071    13934  Mater And The Ghostlight"
      ]
     },
     "execution_count": 114,
     "metadata": {},
     "output_type": "execute_result"
    }
   ],
   "source": [
    "x = 862\n",
    "lista = list(dfx[dfx.id_peli == 862].idx_recommend)\n",
    "df.loc[lista][['id_peli', 'title']]"
   ]
  }
 ],
 "metadata": {
  "kernelspec": {
   "display_name": "Python 3",
   "language": "python",
   "name": "python3"
  },
  "language_info": {
   "codemirror_mode": {
    "name": "ipython",
    "version": 3
   },
   "file_extension": ".py",
   "mimetype": "text/x-python",
   "name": "python",
   "nbconvert_exporter": "python",
   "pygments_lexer": "ipython3",
   "version": "3.10.8"
  },
  "orig_nbformat": 4
 },
 "nbformat": 4,
 "nbformat_minor": 2
}
