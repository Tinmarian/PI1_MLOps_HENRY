{
 "cells": [
  {
   "cell_type": "markdown",
   "metadata": {},
   "source": [
    "# Desarrollo de las funciones de la API."
   ]
  },
  {
   "cell_type": "code",
   "execution_count": 2,
   "metadata": {},
   "outputs": [],
   "source": [
    "import pandas as pd"
   ]
  },
  {
   "cell_type": "code",
   "execution_count": 13,
   "metadata": {},
   "outputs": [
    {
     "data": {
      "text/plain": [
       "id_peli                int64\n",
       "title                 object\n",
       "budget               float64\n",
       "revenue              float64\n",
       "return               float64\n",
       "original_language     object\n",
       "release_year           int64\n",
       "release_date          object\n",
       "runtime              float64\n",
       "popularity           float64\n",
       "vote_average         float64\n",
       "vote_count           float64\n",
       "dtype: object"
      ]
     },
     "execution_count": 13,
     "metadata": {},
     "output_type": "execute_result"
    }
   ],
   "source": [
    "movies = pd.read_csv('clean_data/movies.csv')\n",
    "movies['title'] = movies.title.astype(str)\n",
    "movies['original_language'] = movies.original_language.astype(str)\n",
    "movies.dtypes"
   ]
  },
  {
   "cell_type": "code",
   "execution_count": 19,
   "metadata": {},
   "outputs": [
    {
     "data": {
      "text/plain": [
       "11721229.854208069"
      ]
     },
     "execution_count": 19,
     "metadata": {},
     "output_type": "execute_result"
    }
   ],
   "source": []
  },
  {
   "cell_type": "code",
   "execution_count": null,
   "metadata": {},
   "outputs": [],
   "source": [
    "def peliculas_idioma(idioma:str):\n",
    "    df = pd.read_csv('clean_data/movies.csv')\n",
    "    df = df[df.original_language == idioma]\n",
    "    return print(f'La cantidad de películas producidas originalmente en {idioma} son: {len(df)}')\n",
    "\n",
    "def peliculas_duración(pelicula:str):\n",
    "    df = pd.read_csv('clean_data/movies.csv')\n",
    "    row = df[df.title == pelicula]\n",
    "    duracion = row.runtime[0]\n",
    "    anio = row.release_year[0]\n",
    "    return print(f'La pelicula {pelicula} tiene una duración de {duracion} minutos. Año {anio}')\n",
    "\n",
    "def franquicia(franquicia:str):\n",
    "    df = pd.read_csv('clean_data/franquicias.csv')\n",
    "    dfx = pd.read_csv('clean_data/movies.csv')\n",
    "    df = df[df.franquicia == franquicia]\n",
    "    df = df.merge(dfx)[['title','franquicia','revenue','budget']]\n",
    "    df['ganancia'] = df.revenue - df.budget\n",
    "    g_total = df.ganancia.sum()\n",
    "    g_promedio = df.ganancia.mean()\n",
    "    peliculas = len(df)\n",
    "    return print(f'La franquicia {franquicia} tiene un total de {peliculas} peliculas, una ganancia total de {g_total} y una ganancia promedio de {g_promedio}')    "
   ]
  }
 ],
 "metadata": {
  "kernelspec": {
   "display_name": "Python 3",
   "language": "python",
   "name": "python3"
  },
  "language_info": {
   "codemirror_mode": {
    "name": "ipython",
    "version": 3
   },
   "file_extension": ".py",
   "mimetype": "text/x-python",
   "name": "python",
   "nbconvert_exporter": "python",
   "pygments_lexer": "ipython3",
   "version": "3.10.8"
  },
  "orig_nbformat": 4
 },
 "nbformat": 4,
 "nbformat_minor": 2
}
