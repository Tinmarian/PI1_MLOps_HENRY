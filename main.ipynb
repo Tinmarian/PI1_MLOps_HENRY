{
 "cells": [
  {
   "cell_type": "markdown",
   "metadata": {},
   "source": [
    "# Desarrollo de las funciones de la API."
   ]
  },
  {
   "cell_type": "code",
   "execution_count": 3,
   "metadata": {},
   "outputs": [],
   "source": [
    "import pandas as pd"
   ]
  },
  {
   "cell_type": "code",
   "execution_count": 4,
   "metadata": {},
   "outputs": [],
   "source": [
    "# @app.get(\"/\")\n",
    "def peliculas_idioma(idioma:str):\n",
    "    idioma = idioma.lower()\n",
    "    df = pd.read_csv('clean_data/movies.csv')\n",
    "    dfx = pd.read_csv('clean_data/lenguajes.csv')\n",
    "    dfy = pd.read_csv('clean_data/leng_movies.csv')\n",
    "    df = df[df.original_language == idioma]\n",
    "    df = df.merge(dfy,how='left')\n",
    "    df = df.merge(dfx,how='left')\n",
    "    abrev = idioma\n",
    "    idioma = df.lenguaje[0]\n",
    "    return print(f'La cantidad de películas producidas originalmente en \"{idioma} ({abrev})\" son: {len(df)}')\n",
    "\n",
    "# @app.get(\"/\")\n",
    "def peliculas_duración(pelicula:str):\n",
    "    pelicula = pelicula.title()\n",
    "    df = pd.read_csv('clean_data/movies.csv')\n",
    "    row = df[df.title == pelicula]\n",
    "    duracion = row.runtime.item()\n",
    "    anio = row.release_year.item()\n",
    "    return print(f'La pelicula {pelicula} tiene una duración de {duracion} minutos. Año {anio}')\n",
    "\n",
    "# @app.get(\"/\")\n",
    "def franquicia(franquicia:str):\n",
    "    df = pd.read_csv('clean_data/franquicias.csv')\n",
    "    dfx = pd.read_csv('clean_data/franq_movies.csv')\n",
    "    dfy = pd.read_csv('clean_data/movies.csv')\n",
    "    df = df[df.franquicia == franquicia]\n",
    "    df = df.merge(dfx)[['id_peli','franquicia']]\n",
    "    df = df.merge(dfy)[['title','franquicia','revenue','budget']]\n",
    "    df['ganancia'] = df.revenue - df.budget\n",
    "    g_total = df.ganancia.sum()\n",
    "    g_promedio = df.ganancia.mean()\n",
    "    peliculas = len(df)\n",
    "    return print(f'La franquicia {franquicia} tiene un total de {peliculas} peliculas, una ganancia total de {g_total} y una ganancia promedio de {g_promedio}') \n",
    "\n",
    "# @app.get(\"/\")\n",
    "def peliculas_pais(pais:str):\n",
    "    df = pd.read_csv('clean_data/paises.csv')\n",
    "    dfx = pd.read_csv('clean_data/pais_movies.csv')\n",
    "    df = df.merge(dfx,how='right')[['id_peli']]\n",
    "    peliculas = len(df[df.pais == pais])\n",
    "    return print(f'Se producieron {peliculas} peliculas en el pais {pais}')\n",
    "\n",
    "# @app.get(\"/\")\n",
    "def productoras_exitosas(productora:str):\n",
    "    df = pd.read_csv('clean_data/productoras.csv')\n",
    "    dfx = pd.read_csv('clean_data/prod_movies.csv')\n",
    "    dfy = pd.read_csv('clean_data/movies.csv')\n",
    "    df = df[df.productora == productora]\n",
    "    df = df.merge(dfx)[['id_peli','productora']]\n",
    "    df = df.merge(dfy)[['productora','revenue']]\n",
    "    peliculas = len(df)\n",
    "    rev_total = df.revenue.sum()\n",
    "    return print(f'La productora {productora} tiene {peliculas} peliculas con un revenue total de {rev_total} entre todas')\n",
    "\n",
    "# @app.get(\"/\")\n",
    "def get_director(director:str):\n",
    "    df = pd.read_csv('clean_data/directores.csv')\n",
    "    dfx = pd.read_csv('clean_data/dir_movies.csv')\n",
    "    dfy = pd.read_csv('clean_data/movies.csv')\n",
    "    df = df[df.director == director]\n",
    "    df = df.merge(dfx)[['id_peli','director']]\n",
    "    df = df.merge(dfy)[['title','release_date','revenue','budget','return']]\n",
    "    retorno = df.revenue.sum()/df.budget.sum()\n",
    "    listas = df.to_numpy().tolist()\n",
    "    return print(f'El director {director} tiene un éxito medido a través del retorno de todas sus películas (esto es: df.revenue.sum()/df.budget.sum()) de {retorno}.\\n\\nLas películas que dirigió son:\\n\\n{listas}', \"Se utilizó el siguiente calculo para determinar el retorno: df.revenue.sum()/df.budget.sum()\")\n",
    "\n",
    "# @app.get(\"/\")\n",
    "def recomendacion(pelicula:[str,int]):\n",
    "    df = pd.read_csv('clean_data/movies_model.csv')\n",
    "    dfx = pd.read_csv('clean_data/recommended_movies.csv')\n",
    "    if type(pelicula) == str:\n",
    "        pelicula = pelicula.title()\n",
    "        lista = list(dfx[dfx.title == pelicula].idx_recommend)\n",
    "    elif type(pelicula) == int:\n",
    "        lista = list(dfx[dfx.id_peli == pelicula].idx_recommend)\n",
    "        pelicula = dfx.title[dfx.id_peli == pelicula][:1].item()\n",
    "\n",
    "    recomendacion = df.loc[lista][['id_peli', 'title']]\n",
    "    recomendacion.columns = ['id_peli','recomendaciones']\n",
    "\n",
    "    if not recomendacion.empty:\n",
    "        return {\n",
    "            'Ingresaste la película: ': f'{pelicula}',\n",
    "            'Las recomendaciones son: ': f'1.- [{recomendacion.recomendaciones[:1].item()}]; 2.- [{recomendacion.recomendaciones[1:2].item()}]; 3.- [{recomendacion.recomendaciones[2:3].item()}]; 4.- [{recomendacion.recomendaciones[3:4].item()}]; 5.- [{recomendacion.recomendaciones[4:5].item()}]',\n",
    "        }\n",
    "    else: \n",
    "        return {'Dentro del dataset no se encuentra la película: ' : f'{pelicula}'}"
   ]
  },
  {
   "cell_type": "code",
   "execution_count": 17,
   "metadata": {},
   "outputs": [
    {
     "name": "stdout",
     "output_type": "stream",
     "text": [
      "La pelicula The Doom Generation tiene una duración de 80.0 minutos. Año 1995\n"
     ]
    }
   ],
   "source": [
    "peliculas_duración('The Doom Generation')"
   ]
  },
  {
   "cell_type": "code",
   "execution_count": 5,
   "metadata": {},
   "outputs": [
    {
     "name": "stdout",
     "output_type": "stream",
     "text": [
      "Se producieron 0 peliculas en el pais United States Of America\n"
     ]
    }
   ],
   "source": [
    "peliculas_pais('United States Of America')"
   ]
  },
  {
   "cell_type": "code",
   "execution_count": 27,
   "metadata": {},
   "outputs": [
    {
     "data": {
      "text/plain": [
       "2017"
      ]
     },
     "execution_count": 27,
     "metadata": {},
     "output_type": "execute_result"
    }
   ],
   "source": [
    "df = pd.read_csv('clean_data/movies.csv')\n",
    "df.release_year.max()"
   ]
  },
  {
   "cell_type": "code",
   "execution_count": 17,
   "metadata": {},
   "outputs": [
    {
     "name": "stdout",
     "output_type": "stream",
     "text": [
      "La cantidad de películas producidas originalmente en \"English (en)\" son: 41090\n"
     ]
    }
   ],
   "source": [
    "df = pd.read_csv('clean_data/movies.csv')\n",
    "dfx = pd.read_csv('clean_data/lenguajes.csv')\n",
    "dfy = pd.read_csv('clean_data/leng_movies.csv')\n",
    "df = df[df.original_language == 'en']\n",
    "df = df.merge(dfy,how='left')\n",
    "df = df.merge(dfx,how='left')\n",
    "abrev = 'en'\n",
    "idioma = df.lenguaje[0]\n",
    "print(f'La cantidad de películas producidas originalmente en \"{idioma} ({abrev})\" son: {len(df)}')"
   ]
  },
  {
   "cell_type": "code",
   "execution_count": 27,
   "metadata": {},
   "outputs": [
    {
     "data": {
      "text/html": [
       "<div>\n",
       "<style scoped>\n",
       "    .dataframe tbody tr th:only-of-type {\n",
       "        vertical-align: middle;\n",
       "    }\n",
       "\n",
       "    .dataframe tbody tr th {\n",
       "        vertical-align: top;\n",
       "    }\n",
       "\n",
       "    .dataframe thead th {\n",
       "        text-align: right;\n",
       "    }\n",
       "</style>\n",
       "<table border=\"1\" class=\"dataframe\">\n",
       "  <thead>\n",
       "    <tr style=\"text-align: right;\">\n",
       "      <th></th>\n",
       "      <th>id_pais</th>\n",
       "      <th>pais</th>\n",
       "      <th>abrev</th>\n",
       "      <th>id_peli</th>\n",
       "    </tr>\n",
       "  </thead>\n",
       "  <tbody>\n",
       "    <tr>\n",
       "      <th>0</th>\n",
       "      <td>2</td>\n",
       "      <td>NaN</td>\n",
       "      <td>NaN</td>\n",
       "      <td>11860</td>\n",
       "    </tr>\n",
       "    <tr>\n",
       "      <th>1</th>\n",
       "      <td>2</td>\n",
       "      <td>NaN</td>\n",
       "      <td>NaN</td>\n",
       "      <td>1408</td>\n",
       "    </tr>\n",
       "    <tr>\n",
       "      <th>2</th>\n",
       "      <td>2</td>\n",
       "      <td>NaN</td>\n",
       "      <td>NaN</td>\n",
       "      <td>902</td>\n",
       "    </tr>\n",
       "    <tr>\n",
       "      <th>3</th>\n",
       "      <td>2</td>\n",
       "      <td>NaN</td>\n",
       "      <td>NaN</td>\n",
       "      <td>124626</td>\n",
       "    </tr>\n",
       "    <tr>\n",
       "      <th>4</th>\n",
       "      <td>2</td>\n",
       "      <td>NaN</td>\n",
       "      <td>NaN</td>\n",
       "      <td>63076</td>\n",
       "    </tr>\n",
       "    <tr>\n",
       "      <th>...</th>\n",
       "      <td>...</td>\n",
       "      <td>...</td>\n",
       "      <td>...</td>\n",
       "      <td>...</td>\n",
       "    </tr>\n",
       "    <tr>\n",
       "      <th>26130</th>\n",
       "      <td>156</td>\n",
       "      <td>NaN</td>\n",
       "      <td>NaN</td>\n",
       "      <td>132873</td>\n",
       "    </tr>\n",
       "    <tr>\n",
       "      <th>26131</th>\n",
       "      <td>157</td>\n",
       "      <td>NaN</td>\n",
       "      <td>NaN</td>\n",
       "      <td>16403</td>\n",
       "    </tr>\n",
       "    <tr>\n",
       "      <th>26132</th>\n",
       "      <td>158</td>\n",
       "      <td>NaN</td>\n",
       "      <td>NaN</td>\n",
       "      <td>277690</td>\n",
       "    </tr>\n",
       "    <tr>\n",
       "      <th>26133</th>\n",
       "      <td>159</td>\n",
       "      <td>NaN</td>\n",
       "      <td>NaN</td>\n",
       "      <td>321530</td>\n",
       "    </tr>\n",
       "    <tr>\n",
       "      <th>26134</th>\n",
       "      <td>160</td>\n",
       "      <td>NaN</td>\n",
       "      <td>NaN</td>\n",
       "      <td>160372</td>\n",
       "    </tr>\n",
       "  </tbody>\n",
       "</table>\n",
       "<p>26135 rows × 4 columns</p>\n",
       "</div>"
      ],
      "text/plain": [
       "       id_pais pais abrev  id_peli\n",
       "0            2  NaN   NaN    11860\n",
       "1            2  NaN   NaN     1408\n",
       "2            2  NaN   NaN      902\n",
       "3            2  NaN   NaN   124626\n",
       "4            2  NaN   NaN    63076\n",
       "...        ...  ...   ...      ...\n",
       "26130      156  NaN   NaN   132873\n",
       "26131      157  NaN   NaN    16403\n",
       "26132      158  NaN   NaN   277690\n",
       "26133      159  NaN   NaN   321530\n",
       "26134      160  NaN   NaN   160372\n",
       "\n",
       "[26135 rows x 4 columns]"
      ]
     },
     "execution_count": 27,
     "metadata": {},
     "output_type": "execute_result"
    }
   ],
   "source": [
    "df = pd.read_csv('clean_data/paises.csv')\n",
    "dfx = pd.read_csv('clean_data/pais_movies.csv')\n",
    "df = df[df.pais == 'United States Of America']\n",
    "df.merge(dfx,how='right')"
   ]
  },
  {
   "cell_type": "code",
   "execution_count": 30,
   "metadata": {},
   "outputs": [
    {
     "data": {
      "text/plain": [
       "{'Se producieron': '26135 peliculas', 'en el pais': 'United States Of America'}"
      ]
     },
     "execution_count": 30,
     "metadata": {},
     "output_type": "execute_result"
    }
   ],
   "source": [
    "df = pd.read_csv('clean_data/paises.csv')\n",
    "dfx = pd.read_csv('clean_data/pais_movies.csv')\n",
    "df = df.merge(dfx,how='right')\n",
    "peliculas = len(df)\n",
    "{\"Se producieron\" : f\"{peliculas} peliculas\", \"en el pais\" : f\"{'United States Of America'}\"}"
   ]
  },
  {
   "cell_type": "code",
   "execution_count": 39,
   "metadata": {},
   "outputs": [
    {
     "data": {
      "text/plain": [
       "154"
      ]
     },
     "execution_count": 39,
     "metadata": {},
     "output_type": "execute_result"
    }
   ],
   "source": [
    "len(sorted(df.pais.unique()))"
   ]
  },
  {
   "cell_type": "code",
   "execution_count": 45,
   "metadata": {},
   "outputs": [
    {
     "data": {
      "text/html": [
       "<div>\n",
       "<style scoped>\n",
       "    .dataframe tbody tr th:only-of-type {\n",
       "        vertical-align: middle;\n",
       "    }\n",
       "\n",
       "    .dataframe tbody tr th {\n",
       "        vertical-align: top;\n",
       "    }\n",
       "\n",
       "    .dataframe thead th {\n",
       "        text-align: right;\n",
       "    }\n",
       "</style>\n",
       "<table border=\"1\" class=\"dataframe\">\n",
       "  <thead>\n",
       "    <tr style=\"text-align: right;\">\n",
       "      <th></th>\n",
       "      <th>id_peli</th>\n",
       "      <th>id_pais</th>\n",
       "    </tr>\n",
       "  </thead>\n",
       "  <tbody>\n",
       "  </tbody>\n",
       "</table>\n",
       "</div>"
      ],
      "text/plain": [
       "Empty DataFrame\n",
       "Columns: [id_peli, id_pais]\n",
       "Index: []"
      ]
     },
     "execution_count": 45,
     "metadata": {},
     "output_type": "execute_result"
    }
   ],
   "source": [
    "dfx[dfx.id_pais]"
   ]
  },
  {
   "cell_type": "code",
   "execution_count": 43,
   "metadata": {},
   "outputs": [
    {
     "data": {
      "text/html": [
       "<div>\n",
       "<style scoped>\n",
       "    .dataframe tbody tr th:only-of-type {\n",
       "        vertical-align: middle;\n",
       "    }\n",
       "\n",
       "    .dataframe tbody tr th {\n",
       "        vertical-align: top;\n",
       "    }\n",
       "\n",
       "    .dataframe thead th {\n",
       "        text-align: right;\n",
       "    }\n",
       "</style>\n",
       "<table border=\"1\" class=\"dataframe\">\n",
       "  <thead>\n",
       "    <tr style=\"text-align: right;\">\n",
       "      <th></th>\n",
       "      <th>id_pais</th>\n",
       "      <th>pais</th>\n",
       "      <th>abrev</th>\n",
       "    </tr>\n",
       "  </thead>\n",
       "  <tbody>\n",
       "    <tr>\n",
       "      <th>0</th>\n",
       "      <td>1</td>\n",
       "      <td>United States Of America</td>\n",
       "      <td>US</td>\n",
       "    </tr>\n",
       "    <tr>\n",
       "      <th>1</th>\n",
       "      <td>2</td>\n",
       "      <td>Germany</td>\n",
       "      <td>DE</td>\n",
       "    </tr>\n",
       "    <tr>\n",
       "      <th>2</th>\n",
       "      <td>3</td>\n",
       "      <td>United Kingdom</td>\n",
       "      <td>GB</td>\n",
       "    </tr>\n",
       "    <tr>\n",
       "      <th>3</th>\n",
       "      <td>4</td>\n",
       "      <td>France</td>\n",
       "      <td>FR</td>\n",
       "    </tr>\n",
       "    <tr>\n",
       "      <th>4</th>\n",
       "      <td>5</td>\n",
       "      <td>Italy</td>\n",
       "      <td>IT</td>\n",
       "    </tr>\n",
       "    <tr>\n",
       "      <th>...</th>\n",
       "      <td>...</td>\n",
       "      <td>...</td>\n",
       "      <td>...</td>\n",
       "    </tr>\n",
       "    <tr>\n",
       "      <th>155</th>\n",
       "      <td>156</td>\n",
       "      <td>Antarctica</td>\n",
       "      <td>AQ</td>\n",
       "    </tr>\n",
       "    <tr>\n",
       "      <th>156</th>\n",
       "      <td>157</td>\n",
       "      <td>Gibraltar</td>\n",
       "      <td>GI</td>\n",
       "    </tr>\n",
       "    <tr>\n",
       "      <th>157</th>\n",
       "      <td>158</td>\n",
       "      <td>Brunei Darussalam</td>\n",
       "      <td>BN</td>\n",
       "    </tr>\n",
       "    <tr>\n",
       "      <th>158</th>\n",
       "      <td>159</td>\n",
       "      <td>Honduras</td>\n",
       "      <td>HN</td>\n",
       "    </tr>\n",
       "    <tr>\n",
       "      <th>159</th>\n",
       "      <td>160</td>\n",
       "      <td>Guinea</td>\n",
       "      <td>GN</td>\n",
       "    </tr>\n",
       "  </tbody>\n",
       "</table>\n",
       "<p>160 rows × 3 columns</p>\n",
       "</div>"
      ],
      "text/plain": [
       "     id_pais                      pais abrev\n",
       "0          1  United States Of America    US\n",
       "1          2                   Germany    DE\n",
       "2          3            United Kingdom    GB\n",
       "3          4                    France    FR\n",
       "4          5                     Italy    IT\n",
       "..       ...                       ...   ...\n",
       "155      156                Antarctica    AQ\n",
       "156      157                 Gibraltar    GI\n",
       "157      158         Brunei Darussalam    BN\n",
       "158      159                  Honduras    HN\n",
       "159      160                    Guinea    GN\n",
       "\n",
       "[160 rows x 3 columns]"
      ]
     },
     "execution_count": 43,
     "metadata": {},
     "output_type": "execute_result"
    }
   ],
   "source": [
    "pd.read_csv('clean_data/paises.csv')"
   ]
  },
  {
   "cell_type": "code",
   "execution_count": 50,
   "metadata": {},
   "outputs": [
    {
     "name": "stderr",
     "output_type": "stream",
     "text": [
      "C:\\Users\\tinma\\AppData\\Local\\Temp\\ipykernel_14352\\3611600278.py:1: DtypeWarning: Columns (10) have mixed types. Specify dtype option on import or set low_memory=False.\n",
      "  pd.read_csv('Data/movies_dataset.csv')[['id','production_countries','title']]\n"
     ]
    },
    {
     "data": {
      "text/html": [
       "<div>\n",
       "<style scoped>\n",
       "    .dataframe tbody tr th:only-of-type {\n",
       "        vertical-align: middle;\n",
       "    }\n",
       "\n",
       "    .dataframe tbody tr th {\n",
       "        vertical-align: top;\n",
       "    }\n",
       "\n",
       "    .dataframe thead th {\n",
       "        text-align: right;\n",
       "    }\n",
       "</style>\n",
       "<table border=\"1\" class=\"dataframe\">\n",
       "  <thead>\n",
       "    <tr style=\"text-align: right;\">\n",
       "      <th></th>\n",
       "      <th>id</th>\n",
       "      <th>production_countries</th>\n",
       "      <th>title</th>\n",
       "    </tr>\n",
       "  </thead>\n",
       "  <tbody>\n",
       "    <tr>\n",
       "      <th>0</th>\n",
       "      <td>862</td>\n",
       "      <td>[{'iso_3166_1': 'US', 'name': 'United States o...</td>\n",
       "      <td>Toy Story</td>\n",
       "    </tr>\n",
       "    <tr>\n",
       "      <th>1</th>\n",
       "      <td>8844</td>\n",
       "      <td>[{'iso_3166_1': 'US', 'name': 'United States o...</td>\n",
       "      <td>Jumanji</td>\n",
       "    </tr>\n",
       "    <tr>\n",
       "      <th>2</th>\n",
       "      <td>15602</td>\n",
       "      <td>[{'iso_3166_1': 'US', 'name': 'United States o...</td>\n",
       "      <td>Grumpier Old Men</td>\n",
       "    </tr>\n",
       "    <tr>\n",
       "      <th>3</th>\n",
       "      <td>31357</td>\n",
       "      <td>[{'iso_3166_1': 'US', 'name': 'United States o...</td>\n",
       "      <td>Waiting to Exhale</td>\n",
       "    </tr>\n",
       "    <tr>\n",
       "      <th>4</th>\n",
       "      <td>11862</td>\n",
       "      <td>[{'iso_3166_1': 'US', 'name': 'United States o...</td>\n",
       "      <td>Father of the Bride Part II</td>\n",
       "    </tr>\n",
       "    <tr>\n",
       "      <th>...</th>\n",
       "      <td>...</td>\n",
       "      <td>...</td>\n",
       "      <td>...</td>\n",
       "    </tr>\n",
       "    <tr>\n",
       "      <th>45461</th>\n",
       "      <td>439050</td>\n",
       "      <td>[{'iso_3166_1': 'IR', 'name': 'Iran'}]</td>\n",
       "      <td>Subdue</td>\n",
       "    </tr>\n",
       "    <tr>\n",
       "      <th>45462</th>\n",
       "      <td>111109</td>\n",
       "      <td>[{'iso_3166_1': 'PH', 'name': 'Philippines'}]</td>\n",
       "      <td>Century of Birthing</td>\n",
       "    </tr>\n",
       "    <tr>\n",
       "      <th>45463</th>\n",
       "      <td>67758</td>\n",
       "      <td>[{'iso_3166_1': 'US', 'name': 'United States o...</td>\n",
       "      <td>Betrayal</td>\n",
       "    </tr>\n",
       "    <tr>\n",
       "      <th>45464</th>\n",
       "      <td>227506</td>\n",
       "      <td>[{'iso_3166_1': 'RU', 'name': 'Russia'}]</td>\n",
       "      <td>Satan Triumphant</td>\n",
       "    </tr>\n",
       "    <tr>\n",
       "      <th>45465</th>\n",
       "      <td>461257</td>\n",
       "      <td>[{'iso_3166_1': 'GB', 'name': 'United Kingdom'}]</td>\n",
       "      <td>Queerama</td>\n",
       "    </tr>\n",
       "  </tbody>\n",
       "</table>\n",
       "<p>45466 rows × 3 columns</p>\n",
       "</div>"
      ],
      "text/plain": [
       "           id                               production_countries  \\\n",
       "0         862  [{'iso_3166_1': 'US', 'name': 'United States o...   \n",
       "1        8844  [{'iso_3166_1': 'US', 'name': 'United States o...   \n",
       "2       15602  [{'iso_3166_1': 'US', 'name': 'United States o...   \n",
       "3       31357  [{'iso_3166_1': 'US', 'name': 'United States o...   \n",
       "4       11862  [{'iso_3166_1': 'US', 'name': 'United States o...   \n",
       "...       ...                                                ...   \n",
       "45461  439050             [{'iso_3166_1': 'IR', 'name': 'Iran'}]   \n",
       "45462  111109      [{'iso_3166_1': 'PH', 'name': 'Philippines'}]   \n",
       "45463   67758  [{'iso_3166_1': 'US', 'name': 'United States o...   \n",
       "45464  227506           [{'iso_3166_1': 'RU', 'name': 'Russia'}]   \n",
       "45465  461257   [{'iso_3166_1': 'GB', 'name': 'United Kingdom'}]   \n",
       "\n",
       "                             title  \n",
       "0                        Toy Story  \n",
       "1                          Jumanji  \n",
       "2                 Grumpier Old Men  \n",
       "3                Waiting to Exhale  \n",
       "4      Father of the Bride Part II  \n",
       "...                            ...  \n",
       "45461                       Subdue  \n",
       "45462          Century of Birthing  \n",
       "45463                     Betrayal  \n",
       "45464             Satan Triumphant  \n",
       "45465                     Queerama  \n",
       "\n",
       "[45466 rows x 3 columns]"
      ]
     },
     "execution_count": 50,
     "metadata": {},
     "output_type": "execute_result"
    }
   ],
   "source": [
    "pd.read_csv('Data/movies_dataset.csv')[['id','production_countries','title']]"
   ]
  },
  {
   "cell_type": "code",
   "execution_count": 52,
   "metadata": {},
   "outputs": [
    {
     "data": {
      "text/html": [
       "<div>\n",
       "<style scoped>\n",
       "    .dataframe tbody tr th:only-of-type {\n",
       "        vertical-align: middle;\n",
       "    }\n",
       "\n",
       "    .dataframe tbody tr th {\n",
       "        vertical-align: top;\n",
       "    }\n",
       "\n",
       "    .dataframe thead th {\n",
       "        text-align: right;\n",
       "    }\n",
       "</style>\n",
       "<table border=\"1\" class=\"dataframe\">\n",
       "  <thead>\n",
       "    <tr style=\"text-align: right;\">\n",
       "      <th></th>\n",
       "      <th>id_peli</th>\n",
       "      <th>id_pais</th>\n",
       "    </tr>\n",
       "  </thead>\n",
       "  <tbody>\n",
       "  </tbody>\n",
       "</table>\n",
       "</div>"
      ],
      "text/plain": [
       "Empty DataFrame\n",
       "Columns: [id_peli, id_pais]\n",
       "Index: []"
      ]
     },
     "execution_count": 52,
     "metadata": {},
     "output_type": "execute_result"
    }
   ],
   "source": [
    "dfx[dfx.id_peli == 862]"
   ]
  }
 ],
 "metadata": {
  "kernelspec": {
   "display_name": "Python 3",
   "language": "python",
   "name": "python3"
  },
  "language_info": {
   "codemirror_mode": {
    "name": "ipython",
    "version": 3
   },
   "file_extension": ".py",
   "mimetype": "text/x-python",
   "name": "python",
   "nbconvert_exporter": "python",
   "pygments_lexer": "ipython3",
   "version": "3.10.8"
  },
  "orig_nbformat": 4
 },
 "nbformat": 4,
 "nbformat_minor": 2
}
