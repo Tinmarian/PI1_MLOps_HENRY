{
 "cells": [
  {
   "cell_type": "markdown",
   "metadata": {},
   "source": [
    "# Desarrollo de las funciones de la API."
   ]
  },
  {
   "cell_type": "code",
   "execution_count": 1,
   "metadata": {},
   "outputs": [],
   "source": [
    "import pandas as pd"
   ]
  },
  {
   "cell_type": "code",
   "execution_count": 16,
   "metadata": {},
   "outputs": [],
   "source": [
    "# @app.get(\"/\")\n",
    "def peliculas_idioma(idioma:str):\n",
    "    idioma = idioma.lower()\n",
    "    df = pd.read_csv('clean_data/movies.csv')\n",
    "    dfx = pd.read_csv('clean_data/lenguajes.csv')\n",
    "    dfy = pd.read_csv('clean_data/leng_movies.csv')\n",
    "    df = df[df.original_language == idioma]\n",
    "    df = df.merge(dfy)\n",
    "    df = df.merge(dfx)\n",
    "    abrev = idioma\n",
    "    idioma = df.lenguaje.item()\n",
    "    return print(f'La cantidad de películas producidas originalmente en \"{idioma} ({abrev})\" son: {len(df)}')\n",
    "\n",
    "# @app.get(\"/\")\n",
    "def peliculas_duración(pelicula:str):\n",
    "    pelicula = pelicula.title()\n",
    "    df = pd.read_csv('clean_data/movies.csv')\n",
    "    row = df[df.title == pelicula]\n",
    "    duracion = row.runtime.item()\n",
    "    anio = row.release_year.item()\n",
    "    return print(f'La pelicula {pelicula} tiene una duración de {duracion} minutos. Año {anio}')\n",
    "\n",
    "# @app.get(\"/\")\n",
    "def franquicia(franquicia:str):\n",
    "    df = pd.read_csv('clean_data/franquicias.csv')\n",
    "    dfx = pd.read_csv('clean_data/franq_movies.csv')\n",
    "    dfy = pd.read_csv('clean_data/movies.csv')\n",
    "    df = df[df.franquicia == franquicia]\n",
    "    df = df.merge(dfx)[['id_peli','franquicia']]\n",
    "    df = df.merge(dfy)[['title','franquicia','revenue','budget']]\n",
    "    df['ganancia'] = df.revenue - df.budget\n",
    "    g_total = df.ganancia.sum()\n",
    "    g_promedio = df.ganancia.mean()\n",
    "    peliculas = len(df)\n",
    "    return print(f'La franquicia {franquicia} tiene un total de {peliculas} peliculas, una ganancia total de {g_total} y una ganancia promedio de {g_promedio}') \n",
    "\n",
    "# @app.get(\"/\")\n",
    "def peliculas_pais(pais:str):\n",
    "    df = pd.read_csv('clean_data/paises.csv')\n",
    "    dfx = pd.read_csv('clean_data/pais_movies.csv')\n",
    "    df = df[df.pais == pais]\n",
    "    df = df.merge(dfx)[['id_peli']]\n",
    "    peliculas = len(df)\n",
    "    return print(f'Se producieron {peliculas} peliculas en el pais {pais}')\n",
    "\n",
    "# @app.get(\"/\")\n",
    "def productoras_exitosas(productora:str):\n",
    "    df = pd.read_csv('clean_data/productoras.csv')\n",
    "    dfx = pd.read_csv('clean_data/prod_movies.csv')\n",
    "    dfy = pd.read_csv('clean_data/movies.csv')\n",
    "    df = df[df.productora == productora]\n",
    "    df = df.merge(dfx)[['id_peli','productora']]\n",
    "    df = df.merge(dfy)[['productora','revenue']]\n",
    "    peliculas = len(df)\n",
    "    rev_total = df.revenue.sum()\n",
    "    return print(f'La productora {productora} tiene {peliculas} peliculas con un revenue total de {rev_total} entre todas')\n",
    "\n",
    "# @app.get(\"/\")\n",
    "def get_director(director:str):\n",
    "    df = pd.read_csv('clean_data/directores.csv')\n",
    "    dfx = pd.read_csv('clean_data/dir_movies.csv')\n",
    "    dfy = pd.read_csv('clean_data/movies.csv')\n",
    "    df = df[df.director == director]\n",
    "    df = df.merge(dfx)[['id_peli','director']]\n",
    "    df = df.merge(dfy)[['title','release_date','revenue','budget','return']]\n",
    "    retorno = df.revenue.sum()/df.budget.sum()\n",
    "    listas = df.to_numpy().tolist()\n",
    "    return print(f'El director {director} tiene un éxito medido a través del retorno de todas sus películas (esto es: df.revenue.sum()/df.budget.sum()) de {retorno}.\\n\\nLas películas que dirigió son:\\n\\n{listas}', \"Se utilizó el siguiente calculo para determinar el retorno: df.revenue.sum()/df.budget.sum()\")\n",
    "\n",
    "# @app.get(\"/\")\n",
    "def recomendacion(pelicula:[str,int]):\n",
    "    df = pd.read_csv('clean_data/movies_model.csv')\n",
    "    dfx = pd.read_csv('clean_data/recommended_movies.csv')\n",
    "    if type(pelicula) == str:\n",
    "        pelicula = pelicula.title()\n",
    "        lista = list(dfx[dfx.title == pelicula].idx_recommend)\n",
    "    elif type(pelicula) == int:\n",
    "        lista = list(dfx[dfx.id_peli == pelicula].idx_recommend)\n",
    "        pelicula = dfx.title[dfx.id_peli == pelicula][:1].item()\n",
    "\n",
    "    recomendacion = df.loc[lista][['id_peli', 'title']]\n",
    "    recomendacion.columns = ['id_peli','recomendaciones']\n",
    "\n",
    "    if not recomendacion.empty:\n",
    "        return {\n",
    "            'Ingresaste la película: ': f'{pelicula}',\n",
    "            'Las recomendaciones son: ': f'1.- [{recomendacion.recomendaciones[:1].item()}]; 2.- [{recomendacion.recomendaciones[1:2].item()}]; 3.- [{recomendacion.recomendaciones[2:3].item()}]; 4.- [{recomendacion.recomendaciones[3:4].item()}]; 5.- [{recomendacion.recomendaciones[4:5].item()}]',\n",
    "        }\n",
    "    else: \n",
    "        return {'Dentro del dataset no se encuentra la película: ' : f'{pelicula}'}"
   ]
  },
  {
   "cell_type": "code",
   "execution_count": 17,
   "metadata": {},
   "outputs": [
    {
     "name": "stdout",
     "output_type": "stream",
     "text": [
      "La pelicula The Doom Generation tiene una duración de 80.0 minutos. Año 1995\n"
     ]
    }
   ],
   "source": [
    "peliculas_duración('The Doom Generation')"
   ]
  },
  {
   "cell_type": "code",
   "execution_count": 27,
   "metadata": {},
   "outputs": [
    {
     "data": {
      "text/plain": [
       "2017"
      ]
     },
     "execution_count": 27,
     "metadata": {},
     "output_type": "execute_result"
    }
   ],
   "source": [
    "df = pd.read_csv('clean_data/movies.csv')\n",
    "df.release_year.max()"
   ]
  },
  {
   "cell_type": "code",
   "execution_count": 25,
   "metadata": {},
   "outputs": [
    {
     "data": {
      "text/plain": [
       "'Hola Que Tal'"
      ]
     },
     "execution_count": 25,
     "metadata": {},
     "output_type": "execute_result"
    }
   ],
   "source": []
  }
 ],
 "metadata": {
  "kernelspec": {
   "display_name": "Python 3",
   "language": "python",
   "name": "python3"
  },
  "language_info": {
   "codemirror_mode": {
    "name": "ipython",
    "version": 3
   },
   "file_extension": ".py",
   "mimetype": "text/x-python",
   "name": "python",
   "nbconvert_exporter": "python",
   "pygments_lexer": "ipython3",
   "version": "3.10.8"
  },
  "orig_nbformat": 4
 },
 "nbformat": 4,
 "nbformat_minor": 2
}
